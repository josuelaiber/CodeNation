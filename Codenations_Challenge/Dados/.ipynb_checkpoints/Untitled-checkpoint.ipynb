{
 "cells": [
  {
   "cell_type": "markdown",
   "metadata": {},
   "source": [
    "# Importing Libraries"
   ]
  },
  {
   "cell_type": "code",
   "execution_count": 48,
   "metadata": {
    "ExecuteTime": {
     "end_time": "2020-06-03T19:00:58.194608Z",
     "start_time": "2020-06-03T19:00:58.186666Z"
    }
   },
   "outputs": [],
   "source": [
    "import numpy as np\n",
    "import matplotlib.pyplot as plt\n",
    "import seaborn as sns\n",
    "import pandas as pd\n",
    "\n",
    "from sklearn.preprocessing import StandardScaler\n",
    "from sklearn.pipeline import make_pipeline\n",
    "\n",
    "from sklearn.metrics import mean_squared_error\n",
    "from sklearn.metrics import mean_absolute_error\n",
    "from sklearn.metrics import r2_score\n",
    "from sklearn.model_selection import cross_val_score\n",
    "from sklearn.model_selection import KFold\n",
    "\n",
    "\n",
    "from sklearn.neighbors import KNeighborsRegressor\n",
    "from sklearn.linear_model import LinearRegression\n",
    "from sklearn.linear_model import RANSACRegressor\n",
    "from sklearn.linear_model import Ridge\n",
    "from sklearn.linear_model import Lasso\n",
    "from sklearn.linear_model import ElasticNet\n",
    "from sklearn.ensemble import RandomForestRegressor\n",
    "from xgboost import XGBRegressor\n",
    "from sklearn.svm import SVR\n",
    "\n",
    "import pickle\n",
    "\n",
    "from sklearn.model_selection import GridSearchCV\n",
    "from sklearn.model_selection import RandomizedSearchCV"
   ]
  },
  {
   "cell_type": "markdown",
   "metadata": {},
   "source": [
    "# Importing and Analysing Data"
   ]
  },
  {
   "cell_type": "code",
   "execution_count": 49,
   "metadata": {
    "ExecuteTime": {
     "end_time": "2020-06-03T19:00:59.411644Z",
     "start_time": "2020-06-03T19:00:59.078314Z"
    }
   },
   "outputs": [],
   "source": [
    "df = pd.read_csv('train.csv')\n",
    "df_test = pd.read_csv('test.csv')"
   ]
  },
  {
   "cell_type": "code",
   "execution_count": 50,
   "metadata": {
    "ExecuteTime": {
     "end_time": "2020-06-03T19:00:59.646741Z",
     "start_time": "2020-06-03T19:00:59.632779Z"
    }
   },
   "outputs": [],
   "source": [
    "# Selecting only the columns that are in the test set\n",
    "df = df[df_test.columns]"
   ]
  },
  {
   "cell_type": "code",
   "execution_count": 51,
   "metadata": {
    "ExecuteTime": {
     "end_time": "2020-06-03T19:01:00.498572Z",
     "start_time": "2020-06-03T19:01:00.493551Z"
    }
   },
   "outputs": [
    {
     "data": {
      "text/plain": [
       "47"
      ]
     },
     "execution_count": 51,
     "metadata": {},
     "output_type": "execute_result"
    }
   ],
   "source": [
    "# Checking how many features features\n",
    "len(df.columns)"
   ]
  },
  {
   "cell_type": "code",
   "execution_count": 52,
   "metadata": {
    "ExecuteTime": {
     "end_time": "2020-06-03T19:01:01.548309Z",
     "start_time": "2020-06-03T19:01:01.539334Z"
    }
   },
   "outputs": [],
   "source": [
    "# Creating the answer DF\n",
    "df_answer = pd.DataFrame(index = range(df_test.shape[0]), columns=['NU_INSCRICAO','NU_NOTA_MT'])\n",
    "df_answer['NU_INSCRICAO'] = df_test['NU_INSCRICAO']"
   ]
  },
  {
   "cell_type": "code",
   "execution_count": 53,
   "metadata": {
    "ExecuteTime": {
     "end_time": "2020-06-03T19:01:02.642652Z",
     "start_time": "2020-06-03T19:01:02.637635Z"
    }
   },
   "outputs": [
    {
     "data": {
      "text/plain": [
       "Index(['NU_INSCRICAO', 'CO_UF_RESIDENCIA', 'SG_UF_RESIDENCIA', 'NU_IDADE',\n",
       "       'TP_SEXO', 'TP_COR_RACA', 'TP_NACIONALIDADE', 'TP_ST_CONCLUSAO',\n",
       "       'TP_ANO_CONCLUIU', 'TP_ESCOLA', 'TP_ENSINO', 'IN_TREINEIRO',\n",
       "       'TP_DEPENDENCIA_ADM_ESC', 'IN_BAIXA_VISAO', 'IN_CEGUEIRA', 'IN_SURDEZ',\n",
       "       'IN_DISLEXIA', 'IN_DISCALCULIA', 'IN_SABATISTA', 'IN_GESTANTE',\n",
       "       'IN_IDOSO', 'TP_PRESENCA_CN', 'TP_PRESENCA_CH', 'TP_PRESENCA_LC',\n",
       "       'CO_PROVA_CN', 'CO_PROVA_CH', 'CO_PROVA_LC', 'CO_PROVA_MT',\n",
       "       'NU_NOTA_CN', 'NU_NOTA_CH', 'NU_NOTA_LC', 'TP_LINGUA',\n",
       "       'TP_STATUS_REDACAO', 'NU_NOTA_COMP1', 'NU_NOTA_COMP2', 'NU_NOTA_COMP3',\n",
       "       'NU_NOTA_COMP4', 'NU_NOTA_COMP5', 'NU_NOTA_REDACAO', 'Q001', 'Q002',\n",
       "       'Q006', 'Q024', 'Q025', 'Q026', 'Q027', 'Q047'],\n",
       "      dtype='object')"
      ]
     },
     "execution_count": 53,
     "metadata": {},
     "output_type": "execute_result"
    }
   ],
   "source": [
    "df.columns"
   ]
  },
  {
   "cell_type": "markdown",
   "metadata": {},
   "source": [
    "## Analysing the missing values"
   ]
  },
  {
   "cell_type": "code",
   "execution_count": 54,
   "metadata": {
    "ExecuteTime": {
     "end_time": "2020-06-03T19:01:06.035840Z",
     "start_time": "2020-06-03T19:01:06.007908Z"
    }
   },
   "outputs": [
    {
     "data": {
      "text/plain": [
       "NU_INSCRICAO              0.000000\n",
       "CO_UF_RESIDENCIA          0.000000\n",
       "SG_UF_RESIDENCIA          0.000000\n",
       "NU_IDADE                  0.000000\n",
       "TP_SEXO                   0.000000\n",
       "TP_COR_RACA               0.000000\n",
       "TP_NACIONALIDADE          0.000000\n",
       "TP_ST_CONCLUSAO           0.000000\n",
       "TP_ANO_CONCLUIU           0.000000\n",
       "TP_ESCOLA                 0.000000\n",
       "TP_ENSINO                 0.688128\n",
       "IN_TREINEIRO              0.000000\n",
       "TP_DEPENDENCIA_ADM_ESC    0.688128\n",
       "IN_BAIXA_VISAO            0.000000\n",
       "IN_CEGUEIRA               0.000000\n",
       "IN_SURDEZ                 0.000000\n",
       "IN_DISLEXIA               0.000000\n",
       "IN_DISCALCULIA            0.000000\n",
       "IN_SABATISTA              0.000000\n",
       "IN_GESTANTE               0.000000\n",
       "IN_IDOSO                  0.000000\n",
       "TP_PRESENCA_CN            0.000000\n",
       "TP_PRESENCA_CH            0.000000\n",
       "TP_PRESENCA_LC            0.000000\n",
       "CO_PROVA_CN               0.000000\n",
       "CO_PROVA_CH               0.000000\n",
       "CO_PROVA_LC               0.000000\n",
       "CO_PROVA_MT               0.000000\n",
       "NU_NOTA_CN                0.246832\n",
       "NU_NOTA_CH                0.246832\n",
       "NU_NOTA_LC                0.261981\n",
       "TP_LINGUA                 0.000000\n",
       "TP_STATUS_REDACAO         0.261981\n",
       "NU_NOTA_COMP1             0.261981\n",
       "NU_NOTA_COMP2             0.261981\n",
       "NU_NOTA_COMP3             0.261981\n",
       "NU_NOTA_COMP4             0.261981\n",
       "NU_NOTA_COMP5             0.261981\n",
       "NU_NOTA_REDACAO           0.261981\n",
       "Q001                      0.000000\n",
       "Q002                      0.000000\n",
       "Q006                      0.000000\n",
       "Q024                      0.000000\n",
       "Q025                      0.000000\n",
       "Q026                      0.000000\n",
       "Q027                      0.536999\n",
       "Q047                      0.000000\n",
       "dtype: float64"
      ]
     },
     "execution_count": 54,
     "metadata": {},
     "output_type": "execute_result"
    }
   ],
   "source": [
    "# Checking the % of NAN values in each feature\n",
    "df.isnull().sum()/df.shape[0]"
   ]
  },
  {
   "cell_type": "code",
   "execution_count": 55,
   "metadata": {
    "ExecuteTime": {
     "end_time": "2020-06-03T19:04:11.828912Z",
     "start_time": "2020-06-03T19:04:11.818981Z"
    }
   },
   "outputs": [
    {
     "data": {
      "text/plain": [
       "0.2619810633648944"
      ]
     },
     "execution_count": 55,
     "metadata": {},
     "output_type": "execute_result"
    }
   ],
   "source": [
    "df[(df['TP_PRESENCA_LC']==0)|(df['TP_PRESENCA_LC']==2)].shape[0]/df.shape[0]"
   ]
  },
  {
   "cell_type": "markdown",
   "metadata": {},
   "source": [
    "26.19% were absent, so they of a grade iqual to 0.\n",
    "They will be deleted from the training dataframe and it will be aplied the 0 in the test set answer"
   ]
  },
  {
   "cell_type": "code",
   "execution_count": 57,
   "metadata": {
    "ExecuteTime": {
     "end_time": "2020-06-03T19:08:52.539226Z",
     "start_time": "2020-06-03T19:08:52.528256Z"
    }
   },
   "outputs": [],
   "source": [
    "df = df.dropna(subset = ['TP_STATUS_REDACAO'])"
   ]
  },
  {
   "cell_type": "code",
   "execution_count": 58,
   "metadata": {
    "ExecuteTime": {
     "end_time": "2020-06-03T19:09:01.584547Z",
     "start_time": "2020-06-03T19:09:01.563570Z"
    }
   },
   "outputs": [
    {
     "data": {
      "text/plain": [
       "NU_INSCRICAO              0.000000\n",
       "CO_UF_RESIDENCIA          0.000000\n",
       "SG_UF_RESIDENCIA          0.000000\n",
       "NU_IDADE                  0.000000\n",
       "TP_SEXO                   0.000000\n",
       "TP_COR_RACA               0.000000\n",
       "TP_NACIONALIDADE          0.000000\n",
       "TP_ST_CONCLUSAO           0.000000\n",
       "TP_ANO_CONCLUIU           0.000000\n",
       "TP_ESCOLA                 0.000000\n",
       "TP_ENSINO                 0.640876\n",
       "IN_TREINEIRO              0.000000\n",
       "TP_DEPENDENCIA_ADM_ESC    0.640876\n",
       "IN_BAIXA_VISAO            0.000000\n",
       "IN_CEGUEIRA               0.000000\n",
       "IN_SURDEZ                 0.000000\n",
       "IN_DISLEXIA               0.000000\n",
       "IN_DISCALCULIA            0.000000\n",
       "IN_SABATISTA              0.000000\n",
       "IN_GESTANTE               0.000000\n",
       "IN_IDOSO                  0.000000\n",
       "TP_PRESENCA_CN            0.000000\n",
       "TP_PRESENCA_CH            0.000000\n",
       "TP_PRESENCA_LC            0.000000\n",
       "CO_PROVA_CN               0.000000\n",
       "CO_PROVA_CH               0.000000\n",
       "CO_PROVA_LC               0.000000\n",
       "CO_PROVA_MT               0.000000\n",
       "NU_NOTA_CN                0.003553\n",
       "NU_NOTA_CH                0.003553\n",
       "NU_NOTA_LC                0.000000\n",
       "TP_LINGUA                 0.000000\n",
       "TP_STATUS_REDACAO         0.000000\n",
       "NU_NOTA_COMP1             0.000000\n",
       "NU_NOTA_COMP2             0.000000\n",
       "NU_NOTA_COMP3             0.000000\n",
       "NU_NOTA_COMP4             0.000000\n",
       "NU_NOTA_COMP5             0.000000\n",
       "NU_NOTA_REDACAO           0.000000\n",
       "Q001                      0.000000\n",
       "Q002                      0.000000\n",
       "Q006                      0.000000\n",
       "Q024                      0.000000\n",
       "Q025                      0.000000\n",
       "Q026                      0.000000\n",
       "Q027                      0.604559\n",
       "Q047                      0.000000\n",
       "dtype: float64"
      ]
     },
     "execution_count": 58,
     "metadata": {},
     "output_type": "execute_result"
    }
   ],
   "source": [
    "# Checking the result\n",
    "df.isnull().sum()/df.shape[0]"
   ]
  },
  {
   "cell_type": "code",
   "execution_count": 60,
   "metadata": {
    "ExecuteTime": {
     "end_time": "2020-06-03T19:14:02.153973Z",
     "start_time": "2020-06-03T19:14:02.142006Z"
    }
   },
   "outputs": [],
   "source": [
    "# Dropping also the students that were abstent in the CN test, because there was only 0.35% of them\n",
    "df = df.dropna(subset = ['NU_NOTA_CN'])"
   ]
  },
  {
   "cell_type": "code",
   "execution_count": 70,
   "metadata": {
    "ExecuteTime": {
     "end_time": "2020-06-03T19:18:11.120028Z",
     "start_time": "2020-06-03T19:18:11.111052Z"
    }
   },
   "outputs": [],
   "source": [
    "# Imputing the 0 grade for the students that were absent in the test set\n",
    "absent_test = df_test[(df_test['TP_PRESENCA_LC']==0)|(df_test['TP_PRESENCA_LC']==2)]['NU_INSCRICAO']\n",
    "present_test = df_test[df_test['TP_PRESENCA_LC']==1]['NU_INSCRICAO']"
   ]
  },
  {
   "cell_type": "code",
   "execution_count": 71,
   "metadata": {
    "ExecuteTime": {
     "end_time": "2020-06-03T19:18:11.446937Z",
     "start_time": "2020-06-03T19:18:11.441948Z"
    }
   },
   "outputs": [],
   "source": [
    "absent_test = absent_test.to_list()\n",
    "present_test = present_test.to_list()"
   ]
  },
  {
   "cell_type": "code",
   "execution_count": 74,
   "metadata": {
    "ExecuteTime": {
     "end_time": "2020-06-03T19:18:34.008950Z",
     "start_time": "2020-06-03T19:18:34.002965Z"
    }
   },
   "outputs": [
    {
     "data": {
      "text/plain": [
       "True"
      ]
     },
     "execution_count": 74,
     "metadata": {},
     "output_type": "execute_result"
    }
   ],
   "source": [
    "len(absent_test) + len(present_test) ==df_test.shape[0]"
   ]
  },
  {
   "cell_type": "code",
   "execution_count": 78,
   "metadata": {
    "ExecuteTime": {
     "end_time": "2020-06-03T19:31:58.332525Z",
     "start_time": "2020-06-03T19:31:58.326526Z"
    }
   },
   "outputs": [],
   "source": [
    "df_answer.loc[df_answer['NU_INSCRICAO'].isin(absent_test),'NU_NOTA_MT'] = 0"
   ]
  },
  {
   "cell_type": "code",
   "execution_count": null,
   "metadata": {},
   "outputs": [],
   "source": []
  },
  {
   "cell_type": "code",
   "execution_count": null,
   "metadata": {},
   "outputs": [],
   "source": []
  }
 ],
 "metadata": {
  "kernelspec": {
   "display_name": "Python 3",
   "language": "python",
   "name": "python3"
  },
  "language_info": {
   "codemirror_mode": {
    "name": "ipython",
    "version": 3
   },
   "file_extension": ".py",
   "mimetype": "text/x-python",
   "name": "python",
   "nbconvert_exporter": "python",
   "pygments_lexer": "ipython3",
   "version": "3.7.3"
  },
  "toc": {
   "base_numbering": 1,
   "nav_menu": {},
   "number_sections": true,
   "sideBar": true,
   "skip_h1_title": false,
   "title_cell": "Table of Contents",
   "title_sidebar": "Contents",
   "toc_cell": false,
   "toc_position": {},
   "toc_section_display": true,
   "toc_window_display": false
  },
  "varInspector": {
   "cols": {
    "lenName": 16,
    "lenType": 16,
    "lenVar": 40
   },
   "kernels_config": {
    "python": {
     "delete_cmd_postfix": "",
     "delete_cmd_prefix": "del ",
     "library": "var_list.py",
     "varRefreshCmd": "print(var_dic_list())"
    },
    "r": {
     "delete_cmd_postfix": ") ",
     "delete_cmd_prefix": "rm(",
     "library": "var_list.r",
     "varRefreshCmd": "cat(var_dic_list()) "
    }
   },
   "types_to_exclude": [
    "module",
    "function",
    "builtin_function_or_method",
    "instance",
    "_Feature"
   ],
   "window_display": false
  }
 },
 "nbformat": 4,
 "nbformat_minor": 2
}
