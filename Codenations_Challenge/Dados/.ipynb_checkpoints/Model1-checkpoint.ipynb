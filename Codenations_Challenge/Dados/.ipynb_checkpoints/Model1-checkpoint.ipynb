{
 "cells": [
  {
   "cell_type": "markdown",
   "metadata": {},
   "source": [
    "# Importanto Bibliotecas"
   ]
  },
  {
   "cell_type": "code",
   "execution_count": 2,
   "metadata": {
    "ExecuteTime": {
     "end_time": "2020-06-01T17:02:48.551866Z",
     "start_time": "2020-06-01T17:02:45.412856Z"
    }
   },
   "outputs": [],
   "source": [
    "import numpy as np\n",
    "import matplotlib.pyplot as plt\n",
    "import seaborn as sns\n",
    "import pandas as pd\n",
    "\n",
    "from sklearn.preprocessing import StandardScaler\n",
    "from sklearn.pipeline import make_pipeline\n",
    "\n",
    "from sklearn.metrics import mean_squared_error\n",
    "from sklearn.metrics import mean_absolute_error\n",
    "from sklearn.metrics import r2_score\n",
    "from sklearn.model_selection import cross_val_score\n",
    "from sklearn.model_selection import KFold\n",
    "from sklearn.model_selection import RepeatedKFold\n",
    "\n",
    "from sklearn.neighbors import KNeighborsRegressor\n",
    "from sklearn.linear_model import LinearRegression\n",
    "from sklearn.linear_model import RANSACRegressor\n",
    "from sklearn.linear_model import Ridge\n",
    "from sklearn.linear_model import Lasso\n",
    "from sklearn.linear_model import ElasticNet\n",
    "from sklearn.ensemble import RandomForestRegressor\n",
    "from xgboost import XGBRegressor\n",
    "from sklearn.svm import SVR\n",
    "from sklearn.svm import LinearSVR\n",
    "\n",
    "import pickle\n",
    "\n",
    "from sklearn.model_selection import GridSearchCV\n",
    "from sklearn.model_selection import RandomizedSearchCV\n",
    "\n",
    "import warnings\n",
    "warnings.filterwarnings('ignore')"
   ]
  },
  {
   "cell_type": "code",
   "execution_count": 3,
   "metadata": {
    "ExecuteTime": {
     "end_time": "2020-06-01T17:02:48.571814Z",
     "start_time": "2020-06-01T17:02:48.562832Z"
    }
   },
   "outputs": [],
   "source": [
    "import ppscore as pps"
   ]
  },
  {
   "cell_type": "markdown",
   "metadata": {},
   "source": [
    "# Importando dados e analisando"
   ]
  },
  {
   "cell_type": "code",
   "execution_count": 4,
   "metadata": {
    "ExecuteTime": {
     "end_time": "2020-06-01T17:02:50.118665Z",
     "start_time": "2020-06-01T17:02:49.776030Z"
    }
   },
   "outputs": [],
   "source": [
    "df_train = pd.read_csv('data/df1_train.csv', index_col = 0)\n",
    "df_test = pd.read_csv('data/df1_test.csv', index_col = 0)"
   ]
  },
  {
   "cell_type": "code",
   "execution_count": 6,
   "metadata": {
    "ExecuteTime": {
     "end_time": "2020-06-01T17:03:38.801475Z",
     "start_time": "2020-06-01T17:03:31.212766Z"
    }
   },
   "outputs": [
    {
     "data": {
      "text/html": [
       "<div>\n",
       "<style scoped>\n",
       "    .dataframe tbody tr th:only-of-type {\n",
       "        vertical-align: middle;\n",
       "    }\n",
       "\n",
       "    .dataframe tbody tr th {\n",
       "        vertical-align: top;\n",
       "    }\n",
       "\n",
       "    .dataframe thead th {\n",
       "        text-align: right;\n",
       "    }\n",
       "</style>\n",
       "<table border=\"1\" class=\"dataframe\">\n",
       "  <thead>\n",
       "    <tr style=\"text-align: right;\">\n",
       "      <th></th>\n",
       "      <th>Pilha</th>\n",
       "      <th>Ade1</th>\n",
       "      <th>Ade2</th>\n",
       "      <th>Minerio</th>\n",
       "      <th>Calcario</th>\n",
       "      <th>Recirculacao</th>\n",
       "      <th>FeT</th>\n",
       "      <th>SiO2</th>\n",
       "      <th>Al2O3</th>\n",
       "      <th>CaO</th>\n",
       "      <th>...</th>\n",
       "      <th>FeO Meter</th>\n",
       "      <th>PPC</th>\n",
       "      <th>m635</th>\n",
       "      <th>m283</th>\n",
       "      <th>en05e283</th>\n",
       "      <th>m100</th>\n",
       "      <th>me0.50</th>\n",
       "      <th>me0105</th>\n",
       "      <th>T.M.</th>\n",
       "      <th>RDI Pilha</th>\n",
       "    </tr>\n",
       "  </thead>\n",
       "  <tbody>\n",
       "    <tr>\n",
       "      <th>Pilha</th>\n",
       "      <td>1</td>\n",
       "      <td>0</td>\n",
       "      <td>0.000000</td>\n",
       "      <td>0.000000</td>\n",
       "      <td>0.000000</td>\n",
       "      <td>0.000000</td>\n",
       "      <td>0.000000</td>\n",
       "      <td>0.000000</td>\n",
       "      <td>0.000000</td>\n",
       "      <td>0</td>\n",
       "      <td>...</td>\n",
       "      <td>0</td>\n",
       "      <td>0.000000</td>\n",
       "      <td>0.000000</td>\n",
       "      <td>0</td>\n",
       "      <td>0.000000</td>\n",
       "      <td>0.000000</td>\n",
       "      <td>0.000000</td>\n",
       "      <td>0.000000</td>\n",
       "      <td>0.000000</td>\n",
       "      <td>0</td>\n",
       "    </tr>\n",
       "    <tr>\n",
       "      <th>Ade1</th>\n",
       "      <td>0</td>\n",
       "      <td>1</td>\n",
       "      <td>0.000000</td>\n",
       "      <td>0.000000</td>\n",
       "      <td>0.000000</td>\n",
       "      <td>0.000000</td>\n",
       "      <td>0.000000</td>\n",
       "      <td>0.000000</td>\n",
       "      <td>0.000000</td>\n",
       "      <td>0</td>\n",
       "      <td>...</td>\n",
       "      <td>0</td>\n",
       "      <td>0.000000</td>\n",
       "      <td>0.000000</td>\n",
       "      <td>0</td>\n",
       "      <td>0.000000</td>\n",
       "      <td>0.000000</td>\n",
       "      <td>0.000000</td>\n",
       "      <td>0.000000</td>\n",
       "      <td>0.000000</td>\n",
       "      <td>0</td>\n",
       "    </tr>\n",
       "    <tr>\n",
       "      <th>Ade2</th>\n",
       "      <td>0</td>\n",
       "      <td>0</td>\n",
       "      <td>1.000000</td>\n",
       "      <td>0.000000</td>\n",
       "      <td>0.000000</td>\n",
       "      <td>0.000000</td>\n",
       "      <td>0.000000</td>\n",
       "      <td>0.000000</td>\n",
       "      <td>0.000000</td>\n",
       "      <td>0</td>\n",
       "      <td>...</td>\n",
       "      <td>0</td>\n",
       "      <td>0.000000</td>\n",
       "      <td>0.000000</td>\n",
       "      <td>0</td>\n",
       "      <td>0.000000</td>\n",
       "      <td>0.214557</td>\n",
       "      <td>0.000000</td>\n",
       "      <td>0.398561</td>\n",
       "      <td>0.000000</td>\n",
       "      <td>0</td>\n",
       "    </tr>\n",
       "    <tr>\n",
       "      <th>Minerio</th>\n",
       "      <td>0</td>\n",
       "      <td>0</td>\n",
       "      <td>0.000000</td>\n",
       "      <td>1.000000</td>\n",
       "      <td>0.000000</td>\n",
       "      <td>0.301071</td>\n",
       "      <td>0.000000</td>\n",
       "      <td>0.000000</td>\n",
       "      <td>0.000000</td>\n",
       "      <td>0</td>\n",
       "      <td>...</td>\n",
       "      <td>0</td>\n",
       "      <td>0.000000</td>\n",
       "      <td>0.000000</td>\n",
       "      <td>0</td>\n",
       "      <td>0.000000</td>\n",
       "      <td>0.000000</td>\n",
       "      <td>0.000000</td>\n",
       "      <td>0.000000</td>\n",
       "      <td>0.000000</td>\n",
       "      <td>0</td>\n",
       "    </tr>\n",
       "    <tr>\n",
       "      <th>Calcario</th>\n",
       "      <td>0</td>\n",
       "      <td>0</td>\n",
       "      <td>0.000000</td>\n",
       "      <td>0.000000</td>\n",
       "      <td>1.000000</td>\n",
       "      <td>0.000000</td>\n",
       "      <td>0.000000</td>\n",
       "      <td>0.000000</td>\n",
       "      <td>0.000000</td>\n",
       "      <td>0</td>\n",
       "      <td>...</td>\n",
       "      <td>0</td>\n",
       "      <td>0.000000</td>\n",
       "      <td>0.000000</td>\n",
       "      <td>0</td>\n",
       "      <td>0.000000</td>\n",
       "      <td>0.000000</td>\n",
       "      <td>0.000000</td>\n",
       "      <td>0.000000</td>\n",
       "      <td>0.000000</td>\n",
       "      <td>0</td>\n",
       "    </tr>\n",
       "    <tr>\n",
       "      <th>Recirculacao</th>\n",
       "      <td>0</td>\n",
       "      <td>0</td>\n",
       "      <td>0.000000</td>\n",
       "      <td>0.396797</td>\n",
       "      <td>0.000000</td>\n",
       "      <td>1.000000</td>\n",
       "      <td>0.000000</td>\n",
       "      <td>0.000000</td>\n",
       "      <td>0.000000</td>\n",
       "      <td>0</td>\n",
       "      <td>...</td>\n",
       "      <td>0</td>\n",
       "      <td>0.000000</td>\n",
       "      <td>0.000000</td>\n",
       "      <td>0</td>\n",
       "      <td>0.000000</td>\n",
       "      <td>0.000000</td>\n",
       "      <td>0.000000</td>\n",
       "      <td>0.000000</td>\n",
       "      <td>0.000000</td>\n",
       "      <td>0</td>\n",
       "    </tr>\n",
       "    <tr>\n",
       "      <th>FeT</th>\n",
       "      <td>0</td>\n",
       "      <td>0</td>\n",
       "      <td>0.000000</td>\n",
       "      <td>0.000000</td>\n",
       "      <td>0.033246</td>\n",
       "      <td>0.000000</td>\n",
       "      <td>1.000000</td>\n",
       "      <td>0.094627</td>\n",
       "      <td>0.225056</td>\n",
       "      <td>0</td>\n",
       "      <td>...</td>\n",
       "      <td>0</td>\n",
       "      <td>0.579868</td>\n",
       "      <td>0.000000</td>\n",
       "      <td>0</td>\n",
       "      <td>0.000000</td>\n",
       "      <td>0.000000</td>\n",
       "      <td>0.000000</td>\n",
       "      <td>0.000000</td>\n",
       "      <td>0.000000</td>\n",
       "      <td>0</td>\n",
       "    </tr>\n",
       "    <tr>\n",
       "      <th>SiO2</th>\n",
       "      <td>0</td>\n",
       "      <td>0</td>\n",
       "      <td>0.000000</td>\n",
       "      <td>0.000000</td>\n",
       "      <td>0.000000</td>\n",
       "      <td>0.000000</td>\n",
       "      <td>0.156288</td>\n",
       "      <td>1.000000</td>\n",
       "      <td>0.028677</td>\n",
       "      <td>0</td>\n",
       "      <td>...</td>\n",
       "      <td>0</td>\n",
       "      <td>0.000000</td>\n",
       "      <td>0.000000</td>\n",
       "      <td>0</td>\n",
       "      <td>0.000000</td>\n",
       "      <td>0.000000</td>\n",
       "      <td>0.000000</td>\n",
       "      <td>0.000000</td>\n",
       "      <td>0.000000</td>\n",
       "      <td>0</td>\n",
       "    </tr>\n",
       "    <tr>\n",
       "      <th>Al2O3</th>\n",
       "      <td>0</td>\n",
       "      <td>0</td>\n",
       "      <td>0.106787</td>\n",
       "      <td>0.000000</td>\n",
       "      <td>0.000000</td>\n",
       "      <td>0.000000</td>\n",
       "      <td>0.000000</td>\n",
       "      <td>0.000000</td>\n",
       "      <td>1.000000</td>\n",
       "      <td>0</td>\n",
       "      <td>...</td>\n",
       "      <td>0</td>\n",
       "      <td>0.000000</td>\n",
       "      <td>0.000000</td>\n",
       "      <td>0</td>\n",
       "      <td>0.000000</td>\n",
       "      <td>0.000000</td>\n",
       "      <td>0.000000</td>\n",
       "      <td>0.030844</td>\n",
       "      <td>0.000000</td>\n",
       "      <td>0</td>\n",
       "    </tr>\n",
       "    <tr>\n",
       "      <th>CaO</th>\n",
       "      <td>0</td>\n",
       "      <td>0</td>\n",
       "      <td>0.000000</td>\n",
       "      <td>0.000000</td>\n",
       "      <td>0.000000</td>\n",
       "      <td>0.000000</td>\n",
       "      <td>0.018384</td>\n",
       "      <td>0.000000</td>\n",
       "      <td>0.000000</td>\n",
       "      <td>1</td>\n",
       "      <td>...</td>\n",
       "      <td>0</td>\n",
       "      <td>0.007588</td>\n",
       "      <td>0.000000</td>\n",
       "      <td>0</td>\n",
       "      <td>0.000000</td>\n",
       "      <td>0.000000</td>\n",
       "      <td>0.000000</td>\n",
       "      <td>0.000000</td>\n",
       "      <td>0.000000</td>\n",
       "      <td>0</td>\n",
       "    </tr>\n",
       "    <tr>\n",
       "      <th>MgO</th>\n",
       "      <td>0</td>\n",
       "      <td>0</td>\n",
       "      <td>0.000000</td>\n",
       "      <td>0.000000</td>\n",
       "      <td>0.000000</td>\n",
       "      <td>0.000000</td>\n",
       "      <td>0.000000</td>\n",
       "      <td>0.000000</td>\n",
       "      <td>0.000000</td>\n",
       "      <td>0</td>\n",
       "      <td>...</td>\n",
       "      <td>0</td>\n",
       "      <td>0.000000</td>\n",
       "      <td>0.000000</td>\n",
       "      <td>0</td>\n",
       "      <td>0.000000</td>\n",
       "      <td>0.000000</td>\n",
       "      <td>0.000000</td>\n",
       "      <td>0.000000</td>\n",
       "      <td>0.000000</td>\n",
       "      <td>0</td>\n",
       "    </tr>\n",
       "    <tr>\n",
       "      <th>TiO2</th>\n",
       "      <td>0</td>\n",
       "      <td>0</td>\n",
       "      <td>0.000000</td>\n",
       "      <td>0.000000</td>\n",
       "      <td>0.000000</td>\n",
       "      <td>0.000000</td>\n",
       "      <td>0.000000</td>\n",
       "      <td>0.000000</td>\n",
       "      <td>0.125058</td>\n",
       "      <td>0</td>\n",
       "      <td>...</td>\n",
       "      <td>0</td>\n",
       "      <td>0.000000</td>\n",
       "      <td>0.000000</td>\n",
       "      <td>0</td>\n",
       "      <td>0.150397</td>\n",
       "      <td>0.000000</td>\n",
       "      <td>0.149985</td>\n",
       "      <td>0.000000</td>\n",
       "      <td>0.000000</td>\n",
       "      <td>0</td>\n",
       "    </tr>\n",
       "    <tr>\n",
       "      <th>Mn</th>\n",
       "      <td>0</td>\n",
       "      <td>0</td>\n",
       "      <td>0.000000</td>\n",
       "      <td>0.000000</td>\n",
       "      <td>0.000000</td>\n",
       "      <td>0.000000</td>\n",
       "      <td>0.000000</td>\n",
       "      <td>0.000000</td>\n",
       "      <td>0.000000</td>\n",
       "      <td>0</td>\n",
       "      <td>...</td>\n",
       "      <td>0</td>\n",
       "      <td>0.000000</td>\n",
       "      <td>0.000000</td>\n",
       "      <td>0</td>\n",
       "      <td>0.000000</td>\n",
       "      <td>0.000000</td>\n",
       "      <td>0.000000</td>\n",
       "      <td>0.000000</td>\n",
       "      <td>0.000000</td>\n",
       "      <td>0</td>\n",
       "    </tr>\n",
       "    <tr>\n",
       "      <th>P</th>\n",
       "      <td>0</td>\n",
       "      <td>0</td>\n",
       "      <td>0.004406</td>\n",
       "      <td>0.000000</td>\n",
       "      <td>0.000000</td>\n",
       "      <td>0.000000</td>\n",
       "      <td>0.000000</td>\n",
       "      <td>0.000000</td>\n",
       "      <td>0.000000</td>\n",
       "      <td>0</td>\n",
       "      <td>...</td>\n",
       "      <td>0</td>\n",
       "      <td>0.000000</td>\n",
       "      <td>0.000000</td>\n",
       "      <td>0</td>\n",
       "      <td>0.049321</td>\n",
       "      <td>0.000000</td>\n",
       "      <td>0.000000</td>\n",
       "      <td>0.000000</td>\n",
       "      <td>0.000000</td>\n",
       "      <td>0</td>\n",
       "    </tr>\n",
       "    <tr>\n",
       "      <th>S</th>\n",
       "      <td>0</td>\n",
       "      <td>0</td>\n",
       "      <td>0.000000</td>\n",
       "      <td>0.000000</td>\n",
       "      <td>0.000000</td>\n",
       "      <td>0.000000</td>\n",
       "      <td>0.000000</td>\n",
       "      <td>0.000000</td>\n",
       "      <td>0.000000</td>\n",
       "      <td>0</td>\n",
       "      <td>...</td>\n",
       "      <td>0</td>\n",
       "      <td>0.000000</td>\n",
       "      <td>0.000000</td>\n",
       "      <td>0</td>\n",
       "      <td>0.000000</td>\n",
       "      <td>0.000000</td>\n",
       "      <td>0.000000</td>\n",
       "      <td>0.000000</td>\n",
       "      <td>0.000000</td>\n",
       "      <td>0</td>\n",
       "    </tr>\n",
       "    <tr>\n",
       "      <th>ZnO</th>\n",
       "      <td>0</td>\n",
       "      <td>0</td>\n",
       "      <td>0.000000</td>\n",
       "      <td>0.000000</td>\n",
       "      <td>0.000000</td>\n",
       "      <td>0.000000</td>\n",
       "      <td>0.000000</td>\n",
       "      <td>0.000000</td>\n",
       "      <td>0.000000</td>\n",
       "      <td>0</td>\n",
       "      <td>...</td>\n",
       "      <td>0</td>\n",
       "      <td>0.000000</td>\n",
       "      <td>0.000000</td>\n",
       "      <td>0</td>\n",
       "      <td>0.000000</td>\n",
       "      <td>0.000000</td>\n",
       "      <td>0.000000</td>\n",
       "      <td>0.000000</td>\n",
       "      <td>0.000000</td>\n",
       "      <td>0</td>\n",
       "    </tr>\n",
       "    <tr>\n",
       "      <th>K2O</th>\n",
       "      <td>0</td>\n",
       "      <td>0</td>\n",
       "      <td>0.000000</td>\n",
       "      <td>0.000000</td>\n",
       "      <td>0.000000</td>\n",
       "      <td>0.000000</td>\n",
       "      <td>0.000000</td>\n",
       "      <td>0.047102</td>\n",
       "      <td>0.237581</td>\n",
       "      <td>0</td>\n",
       "      <td>...</td>\n",
       "      <td>0</td>\n",
       "      <td>0.000000</td>\n",
       "      <td>0.000000</td>\n",
       "      <td>0</td>\n",
       "      <td>0.025182</td>\n",
       "      <td>0.000000</td>\n",
       "      <td>0.000000</td>\n",
       "      <td>0.000000</td>\n",
       "      <td>0.000000</td>\n",
       "      <td>0</td>\n",
       "    </tr>\n",
       "    <tr>\n",
       "      <th>Na2O</th>\n",
       "      <td>0</td>\n",
       "      <td>0</td>\n",
       "      <td>0.000000</td>\n",
       "      <td>0.000000</td>\n",
       "      <td>0.000000</td>\n",
       "      <td>0.000000</td>\n",
       "      <td>0.000000</td>\n",
       "      <td>0.000000</td>\n",
       "      <td>0.000000</td>\n",
       "      <td>0</td>\n",
       "      <td>...</td>\n",
       "      <td>0</td>\n",
       "      <td>0.000000</td>\n",
       "      <td>0.000000</td>\n",
       "      <td>0</td>\n",
       "      <td>0.223193</td>\n",
       "      <td>0.000000</td>\n",
       "      <td>0.000000</td>\n",
       "      <td>0.000000</td>\n",
       "      <td>0.000000</td>\n",
       "      <td>0</td>\n",
       "    </tr>\n",
       "    <tr>\n",
       "      <th>FeO Meter</th>\n",
       "      <td>0</td>\n",
       "      <td>0</td>\n",
       "      <td>0.000000</td>\n",
       "      <td>0.000000</td>\n",
       "      <td>0.000000</td>\n",
       "      <td>0.000000</td>\n",
       "      <td>0.000000</td>\n",
       "      <td>0.000000</td>\n",
       "      <td>0.000000</td>\n",
       "      <td>0</td>\n",
       "      <td>...</td>\n",
       "      <td>1</td>\n",
       "      <td>0.000000</td>\n",
       "      <td>0.000000</td>\n",
       "      <td>0</td>\n",
       "      <td>0.000000</td>\n",
       "      <td>0.000000</td>\n",
       "      <td>0.000000</td>\n",
       "      <td>0.000000</td>\n",
       "      <td>0.000000</td>\n",
       "      <td>0</td>\n",
       "    </tr>\n",
       "    <tr>\n",
       "      <th>PPC</th>\n",
       "      <td>0</td>\n",
       "      <td>0</td>\n",
       "      <td>0.000000</td>\n",
       "      <td>0.000000</td>\n",
       "      <td>0.098211</td>\n",
       "      <td>0.000000</td>\n",
       "      <td>0.606439</td>\n",
       "      <td>0.000000</td>\n",
       "      <td>0.230988</td>\n",
       "      <td>0</td>\n",
       "      <td>...</td>\n",
       "      <td>0</td>\n",
       "      <td>1.000000</td>\n",
       "      <td>0.000000</td>\n",
       "      <td>0</td>\n",
       "      <td>0.000000</td>\n",
       "      <td>0.000000</td>\n",
       "      <td>0.000000</td>\n",
       "      <td>0.000000</td>\n",
       "      <td>0.000000</td>\n",
       "      <td>0</td>\n",
       "    </tr>\n",
       "    <tr>\n",
       "      <th>m635</th>\n",
       "      <td>0</td>\n",
       "      <td>0</td>\n",
       "      <td>0.000000</td>\n",
       "      <td>0.000000</td>\n",
       "      <td>0.000000</td>\n",
       "      <td>0.000000</td>\n",
       "      <td>0.000000</td>\n",
       "      <td>0.000000</td>\n",
       "      <td>0.000000</td>\n",
       "      <td>0</td>\n",
       "      <td>...</td>\n",
       "      <td>0</td>\n",
       "      <td>0.000000</td>\n",
       "      <td>1.000000</td>\n",
       "      <td>0</td>\n",
       "      <td>0.000000</td>\n",
       "      <td>0.000000</td>\n",
       "      <td>0.000000</td>\n",
       "      <td>0.000000</td>\n",
       "      <td>0.095752</td>\n",
       "      <td>0</td>\n",
       "    </tr>\n",
       "    <tr>\n",
       "      <th>m283</th>\n",
       "      <td>0</td>\n",
       "      <td>0</td>\n",
       "      <td>0.000000</td>\n",
       "      <td>0.000000</td>\n",
       "      <td>0.106142</td>\n",
       "      <td>0.106403</td>\n",
       "      <td>0.000000</td>\n",
       "      <td>0.000000</td>\n",
       "      <td>0.000000</td>\n",
       "      <td>0</td>\n",
       "      <td>...</td>\n",
       "      <td>0</td>\n",
       "      <td>0.000000</td>\n",
       "      <td>0.000000</td>\n",
       "      <td>1</td>\n",
       "      <td>0.000000</td>\n",
       "      <td>0.000000</td>\n",
       "      <td>0.000000</td>\n",
       "      <td>0.000000</td>\n",
       "      <td>0.000000</td>\n",
       "      <td>0</td>\n",
       "    </tr>\n",
       "    <tr>\n",
       "      <th>en05e283</th>\n",
       "      <td>0</td>\n",
       "      <td>0</td>\n",
       "      <td>0.000000</td>\n",
       "      <td>0.000000</td>\n",
       "      <td>0.000000</td>\n",
       "      <td>0.000000</td>\n",
       "      <td>0.000000</td>\n",
       "      <td>0.000000</td>\n",
       "      <td>0.000000</td>\n",
       "      <td>0</td>\n",
       "      <td>...</td>\n",
       "      <td>0</td>\n",
       "      <td>0.000000</td>\n",
       "      <td>0.000000</td>\n",
       "      <td>0</td>\n",
       "      <td>1.000000</td>\n",
       "      <td>0.000000</td>\n",
       "      <td>0.000000</td>\n",
       "      <td>0.000000</td>\n",
       "      <td>0.000000</td>\n",
       "      <td>0</td>\n",
       "    </tr>\n",
       "    <tr>\n",
       "      <th>m100</th>\n",
       "      <td>0</td>\n",
       "      <td>0</td>\n",
       "      <td>0.393380</td>\n",
       "      <td>0.000000</td>\n",
       "      <td>0.000000</td>\n",
       "      <td>0.000000</td>\n",
       "      <td>0.000000</td>\n",
       "      <td>0.000000</td>\n",
       "      <td>0.000000</td>\n",
       "      <td>0</td>\n",
       "      <td>...</td>\n",
       "      <td>0</td>\n",
       "      <td>0.000000</td>\n",
       "      <td>0.000000</td>\n",
       "      <td>0</td>\n",
       "      <td>0.000000</td>\n",
       "      <td>1.000000</td>\n",
       "      <td>0.000000</td>\n",
       "      <td>0.129768</td>\n",
       "      <td>0.000000</td>\n",
       "      <td>0</td>\n",
       "    </tr>\n",
       "    <tr>\n",
       "      <th>me0.50</th>\n",
       "      <td>0</td>\n",
       "      <td>0</td>\n",
       "      <td>0.000000</td>\n",
       "      <td>0.000000</td>\n",
       "      <td>0.000000</td>\n",
       "      <td>0.000000</td>\n",
       "      <td>0.000000</td>\n",
       "      <td>0.000000</td>\n",
       "      <td>0.000000</td>\n",
       "      <td>0</td>\n",
       "      <td>...</td>\n",
       "      <td>0</td>\n",
       "      <td>0.000000</td>\n",
       "      <td>0.000000</td>\n",
       "      <td>0</td>\n",
       "      <td>0.000000</td>\n",
       "      <td>0.000000</td>\n",
       "      <td>1.000000</td>\n",
       "      <td>0.000000</td>\n",
       "      <td>0.000000</td>\n",
       "      <td>0</td>\n",
       "    </tr>\n",
       "    <tr>\n",
       "      <th>me0105</th>\n",
       "      <td>0</td>\n",
       "      <td>0</td>\n",
       "      <td>0.378626</td>\n",
       "      <td>0.000000</td>\n",
       "      <td>0.000000</td>\n",
       "      <td>0.000000</td>\n",
       "      <td>0.000000</td>\n",
       "      <td>0.000000</td>\n",
       "      <td>0.000000</td>\n",
       "      <td>0</td>\n",
       "      <td>...</td>\n",
       "      <td>0</td>\n",
       "      <td>0.000000</td>\n",
       "      <td>0.000000</td>\n",
       "      <td>0</td>\n",
       "      <td>0.000000</td>\n",
       "      <td>0.073530</td>\n",
       "      <td>0.000000</td>\n",
       "      <td>1.000000</td>\n",
       "      <td>0.000000</td>\n",
       "      <td>0</td>\n",
       "    </tr>\n",
       "    <tr>\n",
       "      <th>T.M.</th>\n",
       "      <td>0</td>\n",
       "      <td>0</td>\n",
       "      <td>0.000000</td>\n",
       "      <td>0.000000</td>\n",
       "      <td>0.000000</td>\n",
       "      <td>0.000000</td>\n",
       "      <td>0.000000</td>\n",
       "      <td>0.000000</td>\n",
       "      <td>0.000000</td>\n",
       "      <td>0</td>\n",
       "      <td>...</td>\n",
       "      <td>0</td>\n",
       "      <td>0.000000</td>\n",
       "      <td>0.010499</td>\n",
       "      <td>0</td>\n",
       "      <td>0.000000</td>\n",
       "      <td>0.000000</td>\n",
       "      <td>0.000000</td>\n",
       "      <td>0.000000</td>\n",
       "      <td>1.000000</td>\n",
       "      <td>0</td>\n",
       "    </tr>\n",
       "    <tr>\n",
       "      <th>RDI Pilha</th>\n",
       "      <td>0</td>\n",
       "      <td>0</td>\n",
       "      <td>0.000000</td>\n",
       "      <td>0.000000</td>\n",
       "      <td>0.000000</td>\n",
       "      <td>0.000000</td>\n",
       "      <td>0.000000</td>\n",
       "      <td>0.000000</td>\n",
       "      <td>0.000000</td>\n",
       "      <td>0</td>\n",
       "      <td>...</td>\n",
       "      <td>0</td>\n",
       "      <td>0.000000</td>\n",
       "      <td>0.000000</td>\n",
       "      <td>0</td>\n",
       "      <td>0.000000</td>\n",
       "      <td>0.000000</td>\n",
       "      <td>0.000000</td>\n",
       "      <td>0.000000</td>\n",
       "      <td>0.000000</td>\n",
       "      <td>1</td>\n",
       "    </tr>\n",
       "  </tbody>\n",
       "</table>\n",
       "<p>28 rows × 28 columns</p>\n",
       "</div>"
      ],
      "text/plain": [
       "              Pilha  Ade1      Ade2   Minerio  Calcario  Recirculacao  \\\n",
       "Pilha             1     0  0.000000  0.000000  0.000000      0.000000   \n",
       "Ade1              0     1  0.000000  0.000000  0.000000      0.000000   \n",
       "Ade2              0     0  1.000000  0.000000  0.000000      0.000000   \n",
       "Minerio           0     0  0.000000  1.000000  0.000000      0.301071   \n",
       "Calcario          0     0  0.000000  0.000000  1.000000      0.000000   \n",
       "Recirculacao      0     0  0.000000  0.396797  0.000000      1.000000   \n",
       "FeT               0     0  0.000000  0.000000  0.033246      0.000000   \n",
       "SiO2              0     0  0.000000  0.000000  0.000000      0.000000   \n",
       "Al2O3             0     0  0.106787  0.000000  0.000000      0.000000   \n",
       "CaO               0     0  0.000000  0.000000  0.000000      0.000000   \n",
       "MgO               0     0  0.000000  0.000000  0.000000      0.000000   \n",
       "TiO2              0     0  0.000000  0.000000  0.000000      0.000000   \n",
       "Mn                0     0  0.000000  0.000000  0.000000      0.000000   \n",
       "P                 0     0  0.004406  0.000000  0.000000      0.000000   \n",
       "S                 0     0  0.000000  0.000000  0.000000      0.000000   \n",
       "ZnO               0     0  0.000000  0.000000  0.000000      0.000000   \n",
       "K2O               0     0  0.000000  0.000000  0.000000      0.000000   \n",
       "Na2O              0     0  0.000000  0.000000  0.000000      0.000000   \n",
       "FeO Meter         0     0  0.000000  0.000000  0.000000      0.000000   \n",
       "PPC               0     0  0.000000  0.000000  0.098211      0.000000   \n",
       "m635              0     0  0.000000  0.000000  0.000000      0.000000   \n",
       "m283              0     0  0.000000  0.000000  0.106142      0.106403   \n",
       "en05e283          0     0  0.000000  0.000000  0.000000      0.000000   \n",
       "m100              0     0  0.393380  0.000000  0.000000      0.000000   \n",
       "me0.50            0     0  0.000000  0.000000  0.000000      0.000000   \n",
       "me0105            0     0  0.378626  0.000000  0.000000      0.000000   \n",
       "T.M.              0     0  0.000000  0.000000  0.000000      0.000000   \n",
       "RDI Pilha         0     0  0.000000  0.000000  0.000000      0.000000   \n",
       "\n",
       "                   FeT      SiO2     Al2O3  CaO  ...  FeO Meter       PPC  \\\n",
       "Pilha         0.000000  0.000000  0.000000    0  ...          0  0.000000   \n",
       "Ade1          0.000000  0.000000  0.000000    0  ...          0  0.000000   \n",
       "Ade2          0.000000  0.000000  0.000000    0  ...          0  0.000000   \n",
       "Minerio       0.000000  0.000000  0.000000    0  ...          0  0.000000   \n",
       "Calcario      0.000000  0.000000  0.000000    0  ...          0  0.000000   \n",
       "Recirculacao  0.000000  0.000000  0.000000    0  ...          0  0.000000   \n",
       "FeT           1.000000  0.094627  0.225056    0  ...          0  0.579868   \n",
       "SiO2          0.156288  1.000000  0.028677    0  ...          0  0.000000   \n",
       "Al2O3         0.000000  0.000000  1.000000    0  ...          0  0.000000   \n",
       "CaO           0.018384  0.000000  0.000000    1  ...          0  0.007588   \n",
       "MgO           0.000000  0.000000  0.000000    0  ...          0  0.000000   \n",
       "TiO2          0.000000  0.000000  0.125058    0  ...          0  0.000000   \n",
       "Mn            0.000000  0.000000  0.000000    0  ...          0  0.000000   \n",
       "P             0.000000  0.000000  0.000000    0  ...          0  0.000000   \n",
       "S             0.000000  0.000000  0.000000    0  ...          0  0.000000   \n",
       "ZnO           0.000000  0.000000  0.000000    0  ...          0  0.000000   \n",
       "K2O           0.000000  0.047102  0.237581    0  ...          0  0.000000   \n",
       "Na2O          0.000000  0.000000  0.000000    0  ...          0  0.000000   \n",
       "FeO Meter     0.000000  0.000000  0.000000    0  ...          1  0.000000   \n",
       "PPC           0.606439  0.000000  0.230988    0  ...          0  1.000000   \n",
       "m635          0.000000  0.000000  0.000000    0  ...          0  0.000000   \n",
       "m283          0.000000  0.000000  0.000000    0  ...          0  0.000000   \n",
       "en05e283      0.000000  0.000000  0.000000    0  ...          0  0.000000   \n",
       "m100          0.000000  0.000000  0.000000    0  ...          0  0.000000   \n",
       "me0.50        0.000000  0.000000  0.000000    0  ...          0  0.000000   \n",
       "me0105        0.000000  0.000000  0.000000    0  ...          0  0.000000   \n",
       "T.M.          0.000000  0.000000  0.000000    0  ...          0  0.000000   \n",
       "RDI Pilha     0.000000  0.000000  0.000000    0  ...          0  0.000000   \n",
       "\n",
       "                  m635  m283  en05e283      m100    me0.50    me0105  \\\n",
       "Pilha         0.000000     0  0.000000  0.000000  0.000000  0.000000   \n",
       "Ade1          0.000000     0  0.000000  0.000000  0.000000  0.000000   \n",
       "Ade2          0.000000     0  0.000000  0.214557  0.000000  0.398561   \n",
       "Minerio       0.000000     0  0.000000  0.000000  0.000000  0.000000   \n",
       "Calcario      0.000000     0  0.000000  0.000000  0.000000  0.000000   \n",
       "Recirculacao  0.000000     0  0.000000  0.000000  0.000000  0.000000   \n",
       "FeT           0.000000     0  0.000000  0.000000  0.000000  0.000000   \n",
       "SiO2          0.000000     0  0.000000  0.000000  0.000000  0.000000   \n",
       "Al2O3         0.000000     0  0.000000  0.000000  0.000000  0.030844   \n",
       "CaO           0.000000     0  0.000000  0.000000  0.000000  0.000000   \n",
       "MgO           0.000000     0  0.000000  0.000000  0.000000  0.000000   \n",
       "TiO2          0.000000     0  0.150397  0.000000  0.149985  0.000000   \n",
       "Mn            0.000000     0  0.000000  0.000000  0.000000  0.000000   \n",
       "P             0.000000     0  0.049321  0.000000  0.000000  0.000000   \n",
       "S             0.000000     0  0.000000  0.000000  0.000000  0.000000   \n",
       "ZnO           0.000000     0  0.000000  0.000000  0.000000  0.000000   \n",
       "K2O           0.000000     0  0.025182  0.000000  0.000000  0.000000   \n",
       "Na2O          0.000000     0  0.223193  0.000000  0.000000  0.000000   \n",
       "FeO Meter     0.000000     0  0.000000  0.000000  0.000000  0.000000   \n",
       "PPC           0.000000     0  0.000000  0.000000  0.000000  0.000000   \n",
       "m635          1.000000     0  0.000000  0.000000  0.000000  0.000000   \n",
       "m283          0.000000     1  0.000000  0.000000  0.000000  0.000000   \n",
       "en05e283      0.000000     0  1.000000  0.000000  0.000000  0.000000   \n",
       "m100          0.000000     0  0.000000  1.000000  0.000000  0.129768   \n",
       "me0.50        0.000000     0  0.000000  0.000000  1.000000  0.000000   \n",
       "me0105        0.000000     0  0.000000  0.073530  0.000000  1.000000   \n",
       "T.M.          0.010499     0  0.000000  0.000000  0.000000  0.000000   \n",
       "RDI Pilha     0.000000     0  0.000000  0.000000  0.000000  0.000000   \n",
       "\n",
       "                  T.M.  RDI Pilha  \n",
       "Pilha         0.000000          0  \n",
       "Ade1          0.000000          0  \n",
       "Ade2          0.000000          0  \n",
       "Minerio       0.000000          0  \n",
       "Calcario      0.000000          0  \n",
       "Recirculacao  0.000000          0  \n",
       "FeT           0.000000          0  \n",
       "SiO2          0.000000          0  \n",
       "Al2O3         0.000000          0  \n",
       "CaO           0.000000          0  \n",
       "MgO           0.000000          0  \n",
       "TiO2          0.000000          0  \n",
       "Mn            0.000000          0  \n",
       "P             0.000000          0  \n",
       "S             0.000000          0  \n",
       "ZnO           0.000000          0  \n",
       "K2O           0.000000          0  \n",
       "Na2O          0.000000          0  \n",
       "FeO Meter     0.000000          0  \n",
       "PPC           0.000000          0  \n",
       "m635          0.095752          0  \n",
       "m283          0.000000          0  \n",
       "en05e283      0.000000          0  \n",
       "m100          0.000000          0  \n",
       "me0.50        0.000000          0  \n",
       "me0105        0.000000          0  \n",
       "T.M.          1.000000          0  \n",
       "RDI Pilha     0.000000          1  \n",
       "\n",
       "[28 rows x 28 columns]"
      ]
     },
     "execution_count": 6,
     "metadata": {},
     "output_type": "execute_result"
    }
   ],
   "source": [
    "pps.matrix(df_train)"
   ]
  },
  {
   "cell_type": "code",
   "execution_count": 5,
   "metadata": {
    "ExecuteTime": {
     "end_time": "2020-06-01T17:02:51.442756Z",
     "start_time": "2020-06-01T17:02:51.298116Z"
    }
   },
   "outputs": [
    {
     "ename": "NameError",
     "evalue": "name 'std' is not defined",
     "output_type": "error",
     "traceback": [
      "\u001b[1;31m---------------------------------------------------------------------------\u001b[0m",
      "\u001b[1;31mNameError\u001b[0m                                 Traceback (most recent call last)",
      "\u001b[1;32m<ipython-input-5-1344b0237a49>\u001b[0m in \u001b[0;36m<module>\u001b[1;34m\u001b[0m\n\u001b[0;32m      2\u001b[0m \u001b[0my_train\u001b[0m \u001b[1;33m=\u001b[0m \u001b[0mpd\u001b[0m\u001b[1;33m.\u001b[0m\u001b[0mDataFrame\u001b[0m\u001b[1;33m(\u001b[0m\u001b[0mdf_train\u001b[0m\u001b[1;33m[\u001b[0m\u001b[1;34m'RDI Pilha'\u001b[0m\u001b[1;33m]\u001b[0m\u001b[1;33m)\u001b[0m\u001b[1;33m\u001b[0m\u001b[1;33m\u001b[0m\u001b[0m\n\u001b[0;32m      3\u001b[0m \u001b[1;33m\u001b[0m\u001b[0m\n\u001b[1;32m----> 4\u001b[1;33m \u001b[0mX_train_std\u001b[0m \u001b[1;33m=\u001b[0m \u001b[0mpd\u001b[0m\u001b[1;33m.\u001b[0m\u001b[0mDataFrame\u001b[0m\u001b[1;33m(\u001b[0m\u001b[0mstd\u001b[0m\u001b[1;33m.\u001b[0m\u001b[0mfit_transform\u001b[0m\u001b[1;33m(\u001b[0m\u001b[0mX_train\u001b[0m\u001b[1;33m)\u001b[0m\u001b[1;33m)\u001b[0m\u001b[1;33m\u001b[0m\u001b[1;33m\u001b[0m\u001b[0m\n\u001b[0m",
      "\u001b[1;31mNameError\u001b[0m: name 'std' is not defined"
     ]
    }
   ],
   "source": [
    "X_train = df_train.drop(['RDI Pilha', 'Pilha'], axis = 1)\n",
    "y_train = pd.DataFrame(df_train['RDI Pilha'])\n",
    "\n",
    "#X_train_std = pd.DataFrame(std.fit_transform(X_train))"
   ]
  },
  {
   "cell_type": "code",
   "execution_count": 3,
   "metadata": {
    "ExecuteTime": {
     "end_time": "2020-05-29T11:36:25.127855Z",
     "start_time": "2020-05-29T11:36:25.121871Z"
    }
   },
   "outputs": [
    {
     "data": {
      "text/plain": [
       "Index(['Pilha', 'Ade1', 'Ade2', 'Minerio', 'Calcario', 'Recirculacao', 'FeT',\n",
       "       'SiO2', 'Al2O3', 'CaO', 'MgO', 'TiO2', 'Mn', 'P', 'S', 'ZnO', 'K2O',\n",
       "       'Na2O', 'FeO Meter', 'PPC', 'm635', 'm283', 'en05e283', 'm100',\n",
       "       'me0.50', 'me0105', 'T.M.', 'RDI Pilha'],\n",
       "      dtype='object')"
      ]
     },
     "execution_count": 3,
     "metadata": {},
     "output_type": "execute_result"
    }
   ],
   "source": [
    "df_train.columns"
   ]
  },
  {
   "cell_type": "code",
   "execution_count": 4,
   "metadata": {
    "ExecuteTime": {
     "end_time": "2020-05-29T11:36:26.673644Z",
     "start_time": "2020-05-29T11:36:26.584771Z"
    }
   },
   "outputs": [
    {
     "data": {
      "text/html": [
       "<div>\n",
       "<style scoped>\n",
       "    .dataframe tbody tr th:only-of-type {\n",
       "        vertical-align: middle;\n",
       "    }\n",
       "\n",
       "    .dataframe tbody tr th {\n",
       "        vertical-align: top;\n",
       "    }\n",
       "\n",
       "    .dataframe thead th {\n",
       "        text-align: right;\n",
       "    }\n",
       "</style>\n",
       "<table border=\"1\" class=\"dataframe\">\n",
       "  <thead>\n",
       "    <tr style=\"text-align: right;\">\n",
       "      <th></th>\n",
       "      <th>Ade1</th>\n",
       "      <th>Ade2</th>\n",
       "      <th>Minerio</th>\n",
       "      <th>Calcario</th>\n",
       "      <th>Recirculacao</th>\n",
       "      <th>FeT</th>\n",
       "      <th>SiO2</th>\n",
       "      <th>Al2O3</th>\n",
       "      <th>CaO</th>\n",
       "      <th>MgO</th>\n",
       "      <th>TiO2</th>\n",
       "      <th>Mn</th>\n",
       "      <th>P</th>\n",
       "      <th>S</th>\n",
       "      <th>ZnO</th>\n",
       "      <th>K2O</th>\n",
       "      <th>Na2O</th>\n",
       "      <th>FeO Meter</th>\n",
       "      <th>PPC</th>\n",
       "    </tr>\n",
       "  </thead>\n",
       "  <tbody>\n",
       "    <tr>\n",
       "      <th>count</th>\n",
       "      <td>50.000000</td>\n",
       "      <td>50.000000</td>\n",
       "      <td>50.000000</td>\n",
       "      <td>50.000000</td>\n",
       "      <td>50.000000</td>\n",
       "      <td>50.000000</td>\n",
       "      <td>50.000000</td>\n",
       "      <td>50.000000</td>\n",
       "      <td>50.000000</td>\n",
       "      <td>50.000000</td>\n",
       "      <td>50.000000</td>\n",
       "      <td>50.000000</td>\n",
       "      <td>50.000000</td>\n",
       "      <td>50.000000</td>\n",
       "      <td>50.000000</td>\n",
       "      <td>50.000000</td>\n",
       "      <td>50.000000</td>\n",
       "      <td>50.000000</td>\n",
       "      <td>50.000000</td>\n",
       "    </tr>\n",
       "    <tr>\n",
       "      <th>mean</th>\n",
       "      <td>3.381519</td>\n",
       "      <td>2.717726</td>\n",
       "      <td>60.731720</td>\n",
       "      <td>13.058993</td>\n",
       "      <td>26.209325</td>\n",
       "      <td>48.416008</td>\n",
       "      <td>6.632149</td>\n",
       "      <td>1.034926</td>\n",
       "      <td>11.713711</td>\n",
       "      <td>1.533013</td>\n",
       "      <td>0.054656</td>\n",
       "      <td>0.356609</td>\n",
       "      <td>0.046500</td>\n",
       "      <td>0.035729</td>\n",
       "      <td>0.026499</td>\n",
       "      <td>0.044031</td>\n",
       "      <td>0.038475</td>\n",
       "      <td>1.523936</td>\n",
       "      <td>9.247718</td>\n",
       "    </tr>\n",
       "    <tr>\n",
       "      <th>std</th>\n",
       "      <td>0.765302</td>\n",
       "      <td>0.537238</td>\n",
       "      <td>4.142633</td>\n",
       "      <td>2.425022</td>\n",
       "      <td>5.340519</td>\n",
       "      <td>1.432172</td>\n",
       "      <td>0.405161</td>\n",
       "      <td>0.205686</td>\n",
       "      <td>0.491941</td>\n",
       "      <td>0.202100</td>\n",
       "      <td>0.012397</td>\n",
       "      <td>0.033408</td>\n",
       "      <td>0.006665</td>\n",
       "      <td>0.006922</td>\n",
       "      <td>0.008579</td>\n",
       "      <td>0.010989</td>\n",
       "      <td>0.010719</td>\n",
       "      <td>0.306218</td>\n",
       "      <td>1.242623</td>\n",
       "    </tr>\n",
       "    <tr>\n",
       "      <th>min</th>\n",
       "      <td>2.080369</td>\n",
       "      <td>1.734131</td>\n",
       "      <td>49.441000</td>\n",
       "      <td>8.227751</td>\n",
       "      <td>10.669375</td>\n",
       "      <td>45.975446</td>\n",
       "      <td>5.658704</td>\n",
       "      <td>0.636251</td>\n",
       "      <td>10.337396</td>\n",
       "      <td>1.121326</td>\n",
       "      <td>0.037260</td>\n",
       "      <td>0.294165</td>\n",
       "      <td>0.035232</td>\n",
       "      <td>0.019439</td>\n",
       "      <td>0.012038</td>\n",
       "      <td>0.027549</td>\n",
       "      <td>0.021922</td>\n",
       "      <td>0.930915</td>\n",
       "      <td>6.912021</td>\n",
       "    </tr>\n",
       "    <tr>\n",
       "      <th>25%</th>\n",
       "      <td>2.834628</td>\n",
       "      <td>2.349463</td>\n",
       "      <td>58.643750</td>\n",
       "      <td>11.700699</td>\n",
       "      <td>22.721548</td>\n",
       "      <td>47.261000</td>\n",
       "      <td>6.385118</td>\n",
       "      <td>0.912937</td>\n",
       "      <td>11.430092</td>\n",
       "      <td>1.367637</td>\n",
       "      <td>0.044445</td>\n",
       "      <td>0.330922</td>\n",
       "      <td>0.041006</td>\n",
       "      <td>0.031370</td>\n",
       "      <td>0.019864</td>\n",
       "      <td>0.035508</td>\n",
       "      <td>0.030181</td>\n",
       "      <td>1.274949</td>\n",
       "      <td>8.181256</td>\n",
       "    </tr>\n",
       "    <tr>\n",
       "      <th>50%</th>\n",
       "      <td>3.233059</td>\n",
       "      <td>2.698464</td>\n",
       "      <td>61.227000</td>\n",
       "      <td>12.581062</td>\n",
       "      <td>26.366824</td>\n",
       "      <td>48.325189</td>\n",
       "      <td>6.602400</td>\n",
       "      <td>1.024757</td>\n",
       "      <td>11.698767</td>\n",
       "      <td>1.570767</td>\n",
       "      <td>0.050891</td>\n",
       "      <td>0.356534</td>\n",
       "      <td>0.045848</td>\n",
       "      <td>0.035015</td>\n",
       "      <td>0.025652</td>\n",
       "      <td>0.043200</td>\n",
       "      <td>0.036993</td>\n",
       "      <td>1.547906</td>\n",
       "      <td>9.153591</td>\n",
       "    </tr>\n",
       "    <tr>\n",
       "      <th>75%</th>\n",
       "      <td>3.948271</td>\n",
       "      <td>3.020217</td>\n",
       "      <td>63.486750</td>\n",
       "      <td>14.362747</td>\n",
       "      <td>29.188766</td>\n",
       "      <td>49.496923</td>\n",
       "      <td>7.034404</td>\n",
       "      <td>1.167635</td>\n",
       "      <td>12.030047</td>\n",
       "      <td>1.648132</td>\n",
       "      <td>0.064108</td>\n",
       "      <td>0.382249</td>\n",
       "      <td>0.051635</td>\n",
       "      <td>0.039915</td>\n",
       "      <td>0.030686</td>\n",
       "      <td>0.051995</td>\n",
       "      <td>0.047264</td>\n",
       "      <td>1.756303</td>\n",
       "      <td>9.964351</td>\n",
       "    </tr>\n",
       "    <tr>\n",
       "      <th>max</th>\n",
       "      <td>5.154124</td>\n",
       "      <td>4.078146</td>\n",
       "      <td>69.889000</td>\n",
       "      <td>19.441648</td>\n",
       "      <td>38.536619</td>\n",
       "      <td>51.461258</td>\n",
       "      <td>7.315025</td>\n",
       "      <td>1.622860</td>\n",
       "      <td>12.586546</td>\n",
       "      <td>1.920537</td>\n",
       "      <td>0.079894</td>\n",
       "      <td>0.432053</td>\n",
       "      <td>0.066835</td>\n",
       "      <td>0.051650</td>\n",
       "      <td>0.052014</td>\n",
       "      <td>0.067995</td>\n",
       "      <td>0.060720</td>\n",
       "      <td>2.057363</td>\n",
       "      <td>11.564238</td>\n",
       "    </tr>\n",
       "  </tbody>\n",
       "</table>\n",
       "</div>"
      ],
      "text/plain": [
       "            Ade1       Ade2    Minerio   Calcario  Recirculacao        FeT  \\\n",
       "count  50.000000  50.000000  50.000000  50.000000     50.000000  50.000000   \n",
       "mean    3.381519   2.717726  60.731720  13.058993     26.209325  48.416008   \n",
       "std     0.765302   0.537238   4.142633   2.425022      5.340519   1.432172   \n",
       "min     2.080369   1.734131  49.441000   8.227751     10.669375  45.975446   \n",
       "25%     2.834628   2.349463  58.643750  11.700699     22.721548  47.261000   \n",
       "50%     3.233059   2.698464  61.227000  12.581062     26.366824  48.325189   \n",
       "75%     3.948271   3.020217  63.486750  14.362747     29.188766  49.496923   \n",
       "max     5.154124   4.078146  69.889000  19.441648     38.536619  51.461258   \n",
       "\n",
       "            SiO2      Al2O3        CaO        MgO       TiO2         Mn  \\\n",
       "count  50.000000  50.000000  50.000000  50.000000  50.000000  50.000000   \n",
       "mean    6.632149   1.034926  11.713711   1.533013   0.054656   0.356609   \n",
       "std     0.405161   0.205686   0.491941   0.202100   0.012397   0.033408   \n",
       "min     5.658704   0.636251  10.337396   1.121326   0.037260   0.294165   \n",
       "25%     6.385118   0.912937  11.430092   1.367637   0.044445   0.330922   \n",
       "50%     6.602400   1.024757  11.698767   1.570767   0.050891   0.356534   \n",
       "75%     7.034404   1.167635  12.030047   1.648132   0.064108   0.382249   \n",
       "max     7.315025   1.622860  12.586546   1.920537   0.079894   0.432053   \n",
       "\n",
       "               P          S        ZnO        K2O       Na2O  FeO Meter  \\\n",
       "count  50.000000  50.000000  50.000000  50.000000  50.000000  50.000000   \n",
       "mean    0.046500   0.035729   0.026499   0.044031   0.038475   1.523936   \n",
       "std     0.006665   0.006922   0.008579   0.010989   0.010719   0.306218   \n",
       "min     0.035232   0.019439   0.012038   0.027549   0.021922   0.930915   \n",
       "25%     0.041006   0.031370   0.019864   0.035508   0.030181   1.274949   \n",
       "50%     0.045848   0.035015   0.025652   0.043200   0.036993   1.547906   \n",
       "75%     0.051635   0.039915   0.030686   0.051995   0.047264   1.756303   \n",
       "max     0.066835   0.051650   0.052014   0.067995   0.060720   2.057363   \n",
       "\n",
       "             PPC  \n",
       "count  50.000000  \n",
       "mean    9.247718  \n",
       "std     1.242623  \n",
       "min     6.912021  \n",
       "25%     8.181256  \n",
       "50%     9.153591  \n",
       "75%     9.964351  \n",
       "max    11.564238  "
      ]
     },
     "execution_count": 4,
     "metadata": {},
     "output_type": "execute_result"
    }
   ],
   "source": [
    "df_train.describe().iloc[:,0:19]"
   ]
  },
  {
   "cell_type": "code",
   "execution_count": 5,
   "metadata": {
    "ExecuteTime": {
     "end_time": "2020-05-29T11:36:28.068817Z",
     "start_time": "2020-05-29T11:36:27.996977Z"
    }
   },
   "outputs": [
    {
     "data": {
      "text/html": [
       "<div>\n",
       "<style scoped>\n",
       "    .dataframe tbody tr th:only-of-type {\n",
       "        vertical-align: middle;\n",
       "    }\n",
       "\n",
       "    .dataframe tbody tr th {\n",
       "        vertical-align: top;\n",
       "    }\n",
       "\n",
       "    .dataframe thead th {\n",
       "        text-align: right;\n",
       "    }\n",
       "</style>\n",
       "<table border=\"1\" class=\"dataframe\">\n",
       "  <thead>\n",
       "    <tr style=\"text-align: right;\">\n",
       "      <th></th>\n",
       "      <th>m635</th>\n",
       "      <th>m283</th>\n",
       "      <th>en05e283</th>\n",
       "      <th>m100</th>\n",
       "      <th>me0.50</th>\n",
       "      <th>me0105</th>\n",
       "      <th>T.M.</th>\n",
       "      <th>RDI Pilha</th>\n",
       "    </tr>\n",
       "  </thead>\n",
       "  <tbody>\n",
       "    <tr>\n",
       "      <th>count</th>\n",
       "      <td>50.000000</td>\n",
       "      <td>50.000000</td>\n",
       "      <td>50.000000</td>\n",
       "      <td>50.000000</td>\n",
       "      <td>50.000000</td>\n",
       "      <td>50.000000</td>\n",
       "      <td>50.000000</td>\n",
       "      <td>50.000000</td>\n",
       "    </tr>\n",
       "    <tr>\n",
       "      <th>mean</th>\n",
       "      <td>10.532513</td>\n",
       "      <td>7.912911</td>\n",
       "      <td>33.140220</td>\n",
       "      <td>51.569922</td>\n",
       "      <td>3.079785</td>\n",
       "      <td>20.123554</td>\n",
       "      <td>2.285131</td>\n",
       "      <td>11.808354</td>\n",
       "    </tr>\n",
       "    <tr>\n",
       "      <th>std</th>\n",
       "      <td>1.766796</td>\n",
       "      <td>2.860954</td>\n",
       "      <td>4.409156</td>\n",
       "      <td>2.593844</td>\n",
       "      <td>0.305704</td>\n",
       "      <td>2.229618</td>\n",
       "      <td>0.131117</td>\n",
       "      <td>2.356466</td>\n",
       "    </tr>\n",
       "    <tr>\n",
       "      <th>min</th>\n",
       "      <td>7.183586</td>\n",
       "      <td>3.207686</td>\n",
       "      <td>25.054992</td>\n",
       "      <td>46.126463</td>\n",
       "      <td>2.260002</td>\n",
       "      <td>15.583299</td>\n",
       "      <td>1.996029</td>\n",
       "      <td>8.196500</td>\n",
       "    </tr>\n",
       "    <tr>\n",
       "      <th>25%</th>\n",
       "      <td>9.155792</td>\n",
       "      <td>5.626743</td>\n",
       "      <td>30.055234</td>\n",
       "      <td>49.808171</td>\n",
       "      <td>2.886584</td>\n",
       "      <td>18.854235</td>\n",
       "      <td>2.189342</td>\n",
       "      <td>9.851888</td>\n",
       "    </tr>\n",
       "    <tr>\n",
       "      <th>50%</th>\n",
       "      <td>10.826347</td>\n",
       "      <td>7.896922</td>\n",
       "      <td>33.573873</td>\n",
       "      <td>51.269772</td>\n",
       "      <td>3.071073</td>\n",
       "      <td>20.079617</td>\n",
       "      <td>2.287290</td>\n",
       "      <td>11.691417</td>\n",
       "    </tr>\n",
       "    <tr>\n",
       "      <th>75%</th>\n",
       "      <td>11.578945</td>\n",
       "      <td>9.747520</td>\n",
       "      <td>34.767251</td>\n",
       "      <td>53.376483</td>\n",
       "      <td>3.322557</td>\n",
       "      <td>21.535034</td>\n",
       "      <td>2.376902</td>\n",
       "      <td>13.388583</td>\n",
       "    </tr>\n",
       "    <tr>\n",
       "      <th>max</th>\n",
       "      <td>13.724119</td>\n",
       "      <td>15.419107</td>\n",
       "      <td>48.729764</td>\n",
       "      <td>57.643817</td>\n",
       "      <td>3.610397</td>\n",
       "      <td>25.165683</td>\n",
       "      <td>2.579085</td>\n",
       "      <td>18.370333</td>\n",
       "    </tr>\n",
       "  </tbody>\n",
       "</table>\n",
       "</div>"
      ],
      "text/plain": [
       "            m635       m283   en05e283       m100     me0.50     me0105  \\\n",
       "count  50.000000  50.000000  50.000000  50.000000  50.000000  50.000000   \n",
       "mean   10.532513   7.912911  33.140220  51.569922   3.079785  20.123554   \n",
       "std     1.766796   2.860954   4.409156   2.593844   0.305704   2.229618   \n",
       "min     7.183586   3.207686  25.054992  46.126463   2.260002  15.583299   \n",
       "25%     9.155792   5.626743  30.055234  49.808171   2.886584  18.854235   \n",
       "50%    10.826347   7.896922  33.573873  51.269772   3.071073  20.079617   \n",
       "75%    11.578945   9.747520  34.767251  53.376483   3.322557  21.535034   \n",
       "max    13.724119  15.419107  48.729764  57.643817   3.610397  25.165683   \n",
       "\n",
       "            T.M.  RDI Pilha  \n",
       "count  50.000000  50.000000  \n",
       "mean    2.285131  11.808354  \n",
       "std     0.131117   2.356466  \n",
       "min     1.996029   8.196500  \n",
       "25%     2.189342   9.851888  \n",
       "50%     2.287290  11.691417  \n",
       "75%     2.376902  13.388583  \n",
       "max     2.579085  18.370333  "
      ]
     },
     "execution_count": 5,
     "metadata": {},
     "output_type": "execute_result"
    }
   ],
   "source": [
    "df_train.describe().iloc[:,19:]"
   ]
  },
  {
   "cell_type": "markdown",
   "metadata": {},
   "source": [
    "# Funcoes"
   ]
  },
  {
   "cell_type": "code",
   "execution_count": 32,
   "metadata": {
    "ExecuteTime": {
     "end_time": "2020-05-29T11:57:31.047199Z",
     "start_time": "2020-05-29T11:57:31.030243Z"
    }
   },
   "outputs": [],
   "source": [
    "def model_selection(X, y, models, names, modelname):\n",
    "    columns = ['Algorithm', 'R2', 'R2 Std', 'RMSE', 'RMSE Std']\n",
    "    df = pd.DataFrame(columns = columns, index = range(len(models)))\n",
    "    \n",
    "    Kfolds = RepeatedKFold(n_splits=5,n_repeats = 10, random_state=42)\n",
    "    \n",
    "    for i in range(len(models)):\n",
    "        \n",
    "        resultadosR2 = []\n",
    "        resultadosRMSE = []\n",
    "        \n",
    "        for linhas_treino, linhas_valid in Kfolds.split(X):\n",
    "            \n",
    "            df.iloc[i,0]= names[i]\n",
    "            \n",
    "            X_treino, X_valid = X.iloc[linhas_treino], X.iloc[linhas_valid]\n",
    "            y_treino, y_valid = y.iloc[linhas_treino], y.iloc[linhas_valid]\n",
    "            \n",
    "            models[i].fit(X_treino, y_treino)\n",
    "            \n",
    "            p = models[i].predict(X_valid)\n",
    "            \n",
    "            resultadosR2.append(r2_score(p,y_valid))\n",
    "            resultadosRMSE.append(mean_squared_error(p,y_valid))\n",
    "            \n",
    "        df.iloc[i,1]= np.mean(resultadosR2)\n",
    "        df.iloc[i,2]= np.std(resultadosR2)\n",
    "\n",
    "            \n",
    "        df.iloc[i,3]= np.mean(resultadosRMSE)\n",
    "        df.iloc[i,4]= np.std(resultadosRMSE)\n",
    "        \n",
    "        plt.figure()\n",
    "        plt.hist(resultadosR2)\n",
    "\n",
    "        \n",
    "    print(df)"
   ]
  },
  {
   "cell_type": "code",
   "execution_count": 15,
   "metadata": {
    "ExecuteTime": {
     "end_time": "2020-05-29T11:39:10.805293Z",
     "start_time": "2020-05-29T11:39:10.795321Z"
    }
   },
   "outputs": [],
   "source": [
    "def model_selection_old(X, y, models, names, modelname):\n",
    "    columns = ['Algorithm', 'R2', 'R2 Std', 'RMSE', 'RMSE Std']\n",
    "    df = pd.DataFrame(columns = columns, index = range(len(models)))\n",
    "    \n",
    "    Kfolds = KFold(n_splits=5, random_state=42, shuffle=True)\n",
    "    \n",
    "    for i in range(len(models)):\n",
    "        df.iloc[i,0]= names[i]\n",
    "        \n",
    "        scoresr2 = cross_val_score(estimator = models[i], X=X, y=y, cv=Kfolds, n_jobs = -1,scoring = 'r2')\n",
    "        df.iloc[i,1]= np.mean(scoresr2)\n",
    "        df.iloc[i,2]= np.std(scoresr2)\n",
    "        \n",
    "        scoresmse = cross_val_score(estimator = models[i], X=X, y=y, cv=Kfolds, n_jobs = -1,scoring = 'neg_mean_squared_error')\n",
    "        df.iloc[i,3]= np.mean(np.sqrt(-scoresmse))\n",
    "        df.iloc[i,4]= np.std(np.sqrt(-scoresmse))\n",
    "        \n",
    "    print(df)\n",
    "    name = 'results/' + modelname + '.csv'\n",
    "    df.to_csv(name)"
   ]
  },
  {
   "cell_type": "code",
   "execution_count": 114,
   "metadata": {
    "ExecuteTime": {
     "end_time": "2020-05-29T13:50:09.137014Z",
     "start_time": "2020-05-29T13:50:09.130066Z"
    }
   },
   "outputs": [],
   "source": [
    "def modelevaluation(X,y,model):\n",
    "    resultadosR2 = []\n",
    "    resultadosRMSE = []\n",
    "        \n",
    "    for linhas_treino, linhas_valid in Kfolds.split(X):\n",
    "            \n",
    "        X_treino, X_valid = X.iloc[linhas_treino], X.iloc[linhas_valid]\n",
    "        y_treino, y_valid = y.iloc[linhas_treino], y.iloc[linhas_valid]\n",
    "            \n",
    "        model.fit(X_treino, y_treino)\n",
    "            \n",
    "        p = model.predict(X_valid)\n",
    "            \n",
    "        resultadosR2.append(r2_score(p,y_valid))\n",
    "        resultadosRMSE.append(mean_squared_error(p,y_valid))\n",
    "\n",
    "        \n",
    "    plt.figure()\n",
    "    plt.hist(resultadosR2)\n",
    "    \n",
    "    plt.figure()\n",
    "    plt.hist(resultadosRMSE)\n",
    "    \n",
    "    print('CV RMSE: %.3f +/- %.3f' % (np.mean(resultadosRMSE), np.std(resultadosRMSE)))\n",
    "    print('CV R2: %.3f +/- %.3f' % (np.mean(resultadosR2), np.std(resultadosR2)))"
   ]
  },
  {
   "cell_type": "code",
   "execution_count": 7,
   "metadata": {
    "ExecuteTime": {
     "end_time": "2020-05-29T11:36:29.455002Z",
     "start_time": "2020-05-29T11:36:29.450014Z"
    }
   },
   "outputs": [],
   "source": [
    "def holdoutresults(model, X, y , crossV = 10):\n",
    "    \n",
    "    print('CV RMSE: %.3f' % (np.sqrt(mean_squared_error(y,model.predict(X)))))\n",
    "\n",
    "    print('CV R2: %.3f' % (r2_score(y,model.predict(X))))\n",
    "    \n",
    "    print('CV MAE: %.3f' % (mean_absolute_error(y,model.predict(X))))"
   ]
  },
  {
   "cell_type": "code",
   "execution_count": 8,
   "metadata": {
    "ExecuteTime": {
     "end_time": "2020-05-29T11:36:29.785525Z",
     "start_time": "2020-05-29T11:36:29.776581Z"
    }
   },
   "outputs": [],
   "source": [
    "def printCVresults(model, X, y , crossV = 10):\n",
    "    scoresmse = cross_val_score(estimator = model, X=X, y=y, cv=crossV, n_jobs = -1,scoring = 'neg_mean_squared_error')\n",
    "    print('CV RMSE: %.3f +/- %.3f' % (np.mean(np.sqrt(-scoresmse)), np.std(np.sqrt(-scoresmse))))\n",
    "    \n",
    "    scoresr2 = cross_val_score(estimator = model, X=X, y=y, cv=crossV, n_jobs = -1,scoring = 'r2')\n",
    "    print('CV R2: %.3f +/- %.3f' % (np.mean(scoresr2), np.std(scoresr2)))\n",
    "    \n",
    "    scoresmae = cross_val_score(estimator = model, X=X, y=y, cv=crossV, n_jobs = -1,scoring = 'neg_mean_absolute_error')\n",
    "    print('CV MAE: %.3f +/- %.3f' % (np.mean(-scoresmae), np.std(-scoresmae)))"
   ]
  },
  {
   "cell_type": "code",
   "execution_count": 9,
   "metadata": {
    "ExecuteTime": {
     "end_time": "2020-05-29T11:36:30.084796Z",
     "start_time": "2020-05-29T11:36:30.079814Z"
    }
   },
   "outputs": [],
   "source": [
    "def errorvsreal (X,y, model, target, save_name):\n",
    "    y['error'] = y[target] - model.predict(X)\n",
    "    plt.scatter(y[target], y['error'].abs())\n",
    "    plt.ylabel('Erro')\n",
    "    plt.xlabel(target)\n",
    "    plt.ylim(top = max(y['error'])+1)\n",
    "    plt.title('Verificação de região com maior erro')\n",
    "    name = 'images/ErrorVsReal' + save_name + '.jpeg'\n",
    "    plt.savefig(name)"
   ]
  },
  {
   "cell_type": "code",
   "execution_count": 51,
   "metadata": {
    "ExecuteTime": {
     "end_time": "2020-05-29T12:26:47.030693Z",
     "start_time": "2020-05-29T12:26:47.023712Z"
    }
   },
   "outputs": [],
   "source": [
    "def loganalization(X,y):\n",
    "    model = LinearRegression()\n",
    "    \n",
    "    scoresr2 = cross_val_score(estimator = model, X=X, y=y, cv=5, n_jobs = -1,scoring = 'r2')\n",
    "    print('CV R2: %.3f +/- %.3f' % (np.mean(scoresr2), np.std(scoresr2)))\n",
    "    \n",
    "    threshold = np.mean(scoresr2)\n",
    "    uselog = []\n",
    "    \n",
    "    for i in X.columns:\n",
    "        X_copy = X.copy()\n",
    "        X_copy[i] = np.log(X_copy[i])\n",
    "        scoresr2 = cross_val_score(estimator = model, X=X_copy, y=y, cv=5, n_jobs = -1,scoring = 'r2')\n",
    "        print('%s CV R2: %.3f +/- %.3f' % (i,np.mean(scoresr2), np.std(scoresr2)))\n",
    "        \n",
    "        if np.mean(scoresr2)>threshold:\n",
    "            uselog.append(i)\n",
    "            \n",
    "    print(uselog)"
   ]
  },
  {
   "cell_type": "markdown",
   "metadata": {},
   "source": [
    "# Analise dos dados"
   ]
  },
  {
   "cell_type": "code",
   "execution_count": 44,
   "metadata": {
    "ExecuteTime": {
     "end_time": "2020-05-29T12:05:31.713631Z",
     "start_time": "2020-05-29T12:05:25.672552Z"
    },
    "scrolled": true
   },
   "outputs": [
    {
     "data": {
      "image/png": "[encoded data removed]",
      "text/plain": [
       "<Figure size 432x288 with 1 Axes>"
      ]
     },
     "metadata": {
      "needs_background": "light"
     },
     "output_type": "display_data"
    },
    {
     "data": {
      "image/png": "[encoded data removed]",
      "text/plain": [
       "<Figure size 432x288 with 1 Axes>"
      ]
     },
     "metadata": {
      "needs_background": "light"
     },
     "output_type": "display_data"
    },
    {
     "data": {
      "image/png": "[encoded data removed]",
      "text/plain": [
       "<Figure size 432x288 with 1 Axes>"
      ]
     },
     "metadata": {
      "needs_background": "light"
     },
     "output_type": "display_data"
    },
    {
     "data": {
      "image/png": "[encoded data removed]",
      "text/plain": [
       "<Figure size 432x288 with 1 Axes>"
      ]
     },
     "metadata": {
      "needs_background": "light"
     },
     "output_type": "display_data"
    },
    {
     "data": {
      "image/png": "[encoded data removed]",
      "text/plain": [
       "<Figure size 432x288 with 1 Axes>"
      ]
     },
     "metadata": {
      "needs_background": "light"
     },
     "output_type": "display_data"
    },
    {
     "data": {
      "image/png": "[encoded data removed]",
      "text/plain": [
       "<Figure size 432x288 with 1 Axes>"
      ]
     },
     "metadata": {
      "needs_background": "light"
     },
     "output_type": "display_data"
    },
    {
     "data": {
      "image/png": "[encoded data removed]",
      "text/plain": [
       "<Figure size 432x288 with 1 Axes>"
      ]
     },
     "metadata": {
      "needs_background": "light"
     },
     "output_type": "display_data"
    },
    {
     "data": {
      "image/png": "[encoded data removed]",
      "text/plain": [
       "<Figure size 432x288 with 1 Axes>"
      ]
     },
     "metadata": {
      "needs_background": "light"
     },
     "output_type": "display_data"
    },
    {
     "data": {
      "image/png": "[encoded data removed]",
      "text/plain": [
       "<Figure size 432x288 with 1 Axes>"
      ]
     },
     "metadata": {
      "needs_background": "light"
     },
     "output_type": "display_data"
    },
    {
     "data": {
      "image/png": "[encoded data removed]",
      "text/plain": [
       "<Figure size 432x288 with 1 Axes>"
      ]
     },
     "metadata": {
      "needs_background": "light"
     },
     "output_type": "display_data"
    },
    {
     "data": {
      "image/png": "[encoded data removed]",
      "text/plain": [
       "<Figure size 432x288 with 1 Axes>"
      ]
     },
     "metadata": {
      "needs_background": "light"
     },
     "output_type": "display_data"
    },
    {
     "data": {
      "image/png": "[encoded data removed]",
      "text/plain": [
       "<Figure size 432x288 with 1 Axes>"
      ]
     },
     "metadata": {
      "needs_background": "light"
     },
     "output_type": "display_data"
    },
    {
     "data": {
      "image/png": "[encoded data removed]",
      "text/plain": [
       "<Figure size 432x288 with 1 Axes>"
      ]
     },
     "metadata": {
      "needs_background": "light"
     },
     "output_type": "display_data"
    },
    {
     "data": {
      "image/png": "[encoded data removed]",
      "text/plain": [
       "<Figure size 432x288 with 1 Axes>"
      ]
     },
     "metadata": {
      "needs_background": "light"
     },
     "output_type": "display_data"
    },
    {
     "data": {
      "image/png": "[encoded data removed]",
      "text/plain": [
       "<Figure size 432x288 with 1 Axes>"
      ]
     },
     "metadata": {
      "needs_background": "light"
     },
     "output_type": "display_data"
    },
    {
     "data": {
      "image/png": "[encoded data removed]",
      "text/plain": [
       "<Figure size 432x288 with 1 Axes>"
      ]
     },
     "metadata": {
      "needs_background": "light"
     },
     "output_type": "display_data"
    },
    {
     "data": {
      "image/png": "[encoded data removed]",
      "text/plain": [
       "<Figure size 432x288 with 1 Axes>"
      ]
     },
     "metadata": {
      "needs_background": "light"
     },
     "output_type": "display_data"
    },
    {
     "data": {
      "image/png": "[encoded data removed]",
      "text/plain": [
       "<Figure size 432x288 with 1 Axes>"
      ]
     },
     "metadata": {
      "needs_background": "light"
     },
     "output_type": "display_data"
    },
    {
     "data": {
      "image/png": "[encoded data removed]",
      "text/plain": [
       "<Figure size 432x288 with 1 Axes>"
      ]
     },
     "metadata": {
      "needs_background": "light"
     },
     "output_type": "display_data"
    },
    {
     "data": {
      "image/png": "[encoded data removed]",
      "text/plain": [
       "<Figure size 432x288 with 1 Axes>"
      ]
     },
     "metadata": {
      "needs_background": "light"
     },
     "output_type": "display_data"
    },
    {
     "data": {
      "image/png": "[encoded data removed]",
      "text/plain": [
       "<Figure size 432x288 with 1 Axes>"
      ]
     },
     "metadata": {
      "needs_background": "light"
     },
     "output_type": "display_data"
    },
    {
     "data": {
      "image/png": "[encoded data removed]",
      "text/plain": [
       "<Figure size 432x288 with 1 Axes>"
      ]
     },
     "metadata": {
      "needs_background": "light"
     },
     "output_type": "display_data"
    },
    {
     "data": {
      "image/png": "[encoded data removed]",
      "text/plain": [
       "<Figure size 432x288 with 1 Axes>"
      ]
     },
     "metadata": {
      "needs_background": "light"
     },
     "output_type": "display_data"
    },
    {
     "data": {
      "image/png": "[encoded data removed]",
      "text/plain": [
       "<Figure size 432x288 with 1 Axes>"
      ]
     },
     "metadata": {
      "needs_background": "light"
     },
     "output_type": "display_data"
    },
    {
     "data": {
      "image/png": "[encoded data removed]",
      "text/plain": [
       "<Figure size 432x288 with 1 Axes>"
      ]
     },
     "metadata": {
      "needs_background": "light"
     },
     "output_type": "display_data"
    },
    {
     "data": {
      "image/png": "[encoded data removed]",
      "text/plain": [
       "<Figure size 432x288 with 1 Axes>"
      ]
     },
     "metadata": {
      "needs_background": "light"
     },
     "output_type": "display_data"
    },
    {
     "data": {
      "image/png": "[encoded data removed]",
      "text/plain": [
       "<Figure size 432x288 with 1 Axes>"
      ]
     },
     "metadata": {
      "needs_background": "light"
     },
     "output_type": "display_data"
    },
    {
     "data": {
      "image/png": "[encoded data removed]",
      "text/plain": [
       "<Figure size 432x288 with 1 Axes>"
      ]
     },
     "metadata": {
      "needs_background": "light"
     },
     "output_type": "display_data"
    }
   ],
   "source": [
    "for i in df_train.columns:\n",
    "    plt.figure()\n",
    "    plt.hist(df_train[i])\n",
    "    plt.xlabel(i)"
   ]
  },
  {
   "cell_type": "code",
   "execution_count": 107,
   "metadata": {
    "ExecuteTime": {
     "end_time": "2020-05-29T13:39:34.074453Z",
     "start_time": "2020-05-29T13:39:34.068470Z"
    }
   },
   "outputs": [],
   "source": [
    "pipe_knr = make_pipeline(StandardScaler(),KNeighborsRegressor())\n",
    "\n",
    "std = StandardScaler()\n",
    "\n",
    "knr = KNeighborsRegressor()\n",
    "\n",
    "linear = LinearRegression()\n",
    "\n",
    "ridge = Ridge()\n",
    "\n",
    "lasso = Lasso ()\n",
    "\n",
    "elanet = ElasticNet()\n",
    "\n",
    "forest = RandomForestRegressor(random_state = 1)\n",
    "\n",
    "xgb = XGBRegressor(silent=True,random_state = 1)\n",
    "\n",
    "pipe_svr = make_pipeline(StandardScaler(),LinearSVR(random_state = 1))\n",
    "\n",
    "svr = LinearSVR()"
   ]
  },
  {
   "cell_type": "code",
   "execution_count": 25,
   "metadata": {
    "ExecuteTime": {
     "end_time": "2020-05-29T11:52:59.815222Z",
     "start_time": "2020-05-29T11:52:59.810235Z"
    }
   },
   "outputs": [],
   "source": [
    "models = [pipe_knr, linear, ridge, lasso, elanet, forest, xgb, pipe_svr]\n",
    "models_std = [knr, linear, ridge, lasso, elanet, forest, xgb, svr]\n",
    "algoriths_names = ['Knn', 'Linear Regression', 'Ridge', 'Lasso', 'ElasticNet', 'Random Forest', 'XGBoost', 'SVM Regressor']"
   ]
  },
  {
   "cell_type": "markdown",
   "metadata": {},
   "source": [
    "# Testes"
   ]
  },
  {
   "cell_type": "markdown",
   "metadata": {},
   "source": [
    "## Com Standard Scalar ou nao"
   ]
  },
  {
   "cell_type": "code",
   "execution_count": 105,
   "metadata": {
    "ExecuteTime": {
     "end_time": "2020-05-29T13:37:12.323695Z",
     "start_time": "2020-05-29T13:37:07.055252Z"
    }
   },
   "outputs": [
    {
     "name": "stdout",
     "output_type": "stream",
     "text": [
      "           Algorithm        R2   R2 Std     RMSE RMSE Std\n",
      "0                Knn  -1.97121  1.89968  4.01979  1.49488\n",
      "1  Linear Regression -0.105655  0.49221  8.87579  4.25759\n",
      "2              Ridge -0.398944  1.14228  3.81804   1.2933\n",
      "3              Lasso  -4.76512  4.02332  4.22131  1.73221\n",
      "4         ElasticNet   -1.9863   1.9001  3.67525  1.48944\n",
      "5      Random Forest  -2.39292   2.4776  4.24273   2.1064\n",
      "6            XGBoost  -1.03323   1.5762  3.55518  1.64584\n",
      "7      SVM Regressor  -8.01844  5.25071  4.39329  1.63812\n"
     ]
    },
    {
     "data": {
      "image/png": "[encoded data removed]",
      "text/plain": [
       "<Figure size 432x288 with 1 Axes>"
      ]
     },
     "metadata": {
      "needs_background": "light"
     },
     "output_type": "display_data"
    },
    {
     "data": {
      "image/png": "[encoded data removed]",
      "text/plain": [
       "<Figure size 432x288 with 1 Axes>"
      ]
     },
     "metadata": {
      "needs_background": "light"
     },
     "output_type": "display_data"
    },
    {
     "data": {
      "image/png": "[encoded data removed]",
      "text/plain": [
       "<Figure size 432x288 with 1 Axes>"
      ]
     },
     "metadata": {
      "needs_background": "light"
     },
     "output_type": "display_data"
    },
    {
     "data": {
      "image/png": "[encoded data removed]",
      "text/plain": [
       "<Figure size 432x288 with 1 Axes>"
      ]
     },
     "metadata": {
      "needs_background": "light"
     },
     "output_type": "display_data"
    },
    {
     "data": {
      "image/png": "[encoded data removed]",
      "text/plain": [
       "<Figure size 432x288 with 1 Axes>"
      ]
     },
     "metadata": {
      "needs_background": "light"
     },
     "output_type": "display_data"
    },
    {
     "data": {
      "image/png": "[encoded data removed]",
      "text/plain": [
       "<Figure size 432x288 with 1 Axes>"
      ]
     },
     "metadata": {
      "needs_background": "light"
     },
     "output_type": "display_data"
    },
    {
     "data": {
      "image/png": "[encoded data removed]",
      "text/plain": [
       "<Figure size 432x288 with 1 Axes>"
      ]
     },
     "metadata": {
      "needs_background": "light"
     },
     "output_type": "display_data"
    },
    {
     "data": {
      "image/png": "[encoded data removed]",
      "text/plain": [
       "<Figure size 432x288 with 1 Axes>"
      ]
     },
     "metadata": {
      "needs_background": "light"
     },
     "output_type": "display_data"
    }
   ],
   "source": [
    "model_selection(X = X_train, y = y_train, models = models, names = algoriths_names, modelname = 'Model1-1')"
   ]
  },
  {
   "cell_type": "code",
   "execution_count": 40,
   "metadata": {
    "ExecuteTime": {
     "end_time": "2020-05-29T12:00:56.139096Z",
     "start_time": "2020-05-29T12:00:51.264248Z"
    }
   },
   "outputs": [
    {
     "name": "stdout",
     "output_type": "stream",
     "text": [
      "           Algorithm        R2    R2 Std     RMSE RMSE Std\n",
      "0                Knn  -2.09928   2.15419  4.04063  1.52399\n",
      "1  Linear Regression -0.105655   0.49221  8.87579  4.25759\n",
      "2              Ridge  -0.20082  0.763466  4.99201  1.83691\n",
      "3              Lasso  -6867.48   39402.7  5.74729  2.24339\n",
      "4         ElasticNet  -13.9232   10.3611   4.5261  1.83131\n",
      "5      Random Forest  -2.39047   2.46941   4.2449  2.11153\n",
      "6            XGBoost   -1.0759   1.70482   3.5541  1.63855\n",
      "7      SVM Regressor  -7.98392   5.21473  4.39499  1.63868\n"
     ]
    },
    {
     "data": {
      "image/png": "[encoded data removed]",
      "text/plain": [
       "<Figure size 432x288 with 1 Axes>"
      ]
     },
     "metadata": {
      "needs_background": "light"
     },
     "output_type": "display_data"
    },
    {
     "data": {
      "image/png": "[encoded data removed]",
      "text/plain": [
       "<Figure size 432x288 with 1 Axes>"
      ]
     },
     "metadata": {
      "needs_background": "light"
     },
     "output_type": "display_data"
    },
    {
     "data": {
      "image/png": "[encoded data removed]",
      "text/plain": [
       "<Figure size 432x288 with 1 Axes>"
      ]
     },
     "metadata": {
      "needs_background": "light"
     },
     "output_type": "display_data"
    },
    {
     "data": {
      "image/png": "[encoded data removed]",
      "text/plain": [
       "<Figure size 432x288 with 1 Axes>"
      ]
     },
     "metadata": {
      "needs_background": "light"
     },
     "output_type": "display_data"
    },
    {
     "data": {
      "image/png": "[encoded data removed]",
      "text/plain": [
       "<Figure size 432x288 with 1 Axes>"
      ]
     },
     "metadata": {
      "needs_background": "light"
     },
     "output_type": "display_data"
    },
    {
     "data": {
      "image/png": "[encoded data removed]",
      "text/plain": [
       "<Figure size 432x288 with 1 Axes>"
      ]
     },
     "metadata": {
      "needs_background": "light"
     },
     "output_type": "display_data"
    },
    {
     "data": {
      "image/png": "[encoded data removed]",
      "text/plain": [
       "<Figure size 432x288 with 1 Axes>"
      ]
     },
     "metadata": {
      "needs_background": "light"
     },
     "output_type": "display_data"
    },
    {
     "data": {
      "image/png": "[encoded data removed]",
      "text/plain": [
       "<Figure size 432x288 with 1 Axes>"
      ]
     },
     "metadata": {
      "needs_background": "light"
     },
     "output_type": "display_data"
    }
   ],
   "source": [
    "model_selection(X = X_train_std, y = y_train, models = models_std, names = algoriths_names, modelname = 'Model1-1')"
   ]
  },
  {
   "cell_type": "markdown",
   "metadata": {},
   "source": [
    "Pouca alteração foi verificada, mantendo os dados normais"
   ]
  },
  {
   "cell_type": "markdown",
   "metadata": {},
   "source": [
    "## Aplicando Log em todas as variaveis"
   ]
  },
  {
   "cell_type": "code",
   "execution_count": 45,
   "metadata": {
    "ExecuteTime": {
     "end_time": "2020-05-29T12:15:33.003839Z",
     "start_time": "2020-05-29T12:15:32.998849Z"
    }
   },
   "outputs": [],
   "source": [
    "X_train_log1 = np.log(X_train)"
   ]
  },
  {
   "cell_type": "code",
   "execution_count": 53,
   "metadata": {
    "ExecuteTime": {
     "end_time": "2020-05-29T12:27:56.685457Z",
     "start_time": "2020-05-29T12:27:51.777563Z"
    },
    "scrolled": true
   },
   "outputs": [
    {
     "name": "stdout",
     "output_type": "stream",
     "text": [
      "           Algorithm          R2      R2 Std     RMSE RMSE Std\n",
      "0                Knn     -1.9709      2.1528  3.88709   1.4703\n",
      "1  Linear Regression   -0.276308    0.727891  15.1576  16.4682\n",
      "2              Ridge     -3.3833     2.91636  4.21743  1.55625\n",
      "3              Lasso -6.6999e+29  9.4049e+29  5.82947  2.21753\n",
      "4         ElasticNet -6.6999e+29  9.4049e+29  5.82947  2.21753\n",
      "5      Random Forest    -2.40603     2.48852  4.25145  2.09935\n",
      "6            XGBoost    -1.02386     1.57471  3.54585  1.64246\n",
      "7      SVM Regressor    -7.53423     4.79046  4.30897  1.58766\n"
     ]
    },
    {
     "data": {
      "image/png": "[encoded data removed]",
      "text/plain": [
       "<Figure size 432x288 with 1 Axes>"
      ]
     },
     "metadata": {
      "needs_background": "light"
     },
     "output_type": "display_data"
    },
    {
     "data": {
      "image/png": "[encoded data removed]",
      "text/plain": [
       "<Figure size 432x288 with 1 Axes>"
      ]
     },
     "metadata": {
      "needs_background": "light"
     },
     "output_type": "display_data"
    },
    {
     "data": {
      "image/png": "[encoded data removed]",
      "text/plain": [
       "<Figure size 432x288 with 1 Axes>"
      ]
     },
     "metadata": {
      "needs_background": "light"
     },
     "output_type": "display_data"
    },
    {
     "data": {
      "image/png": "[encoded data removed]",
      "text/plain": [
       "<Figure size 432x288 with 1 Axes>"
      ]
     },
     "metadata": {
      "needs_background": "light"
     },
     "output_type": "display_data"
    },
    {
     "data": {
      "image/png": "[encoded data removed]",
      "text/plain": [
       "<Figure size 432x288 with 1 Axes>"
      ]
     },
     "metadata": {
      "needs_background": "light"
     },
     "output_type": "display_data"
    },
    {
     "data": {
      "image/png": "[encoded data removed]",
      "text/plain": [
       "<Figure size 432x288 with 1 Axes>"
      ]
     },
     "metadata": {
      "needs_background": "light"
     },
     "output_type": "display_data"
    },
    {
     "data": {
      "image/png": "[encoded data removed]",
      "text/plain": [
       "<Figure size 432x288 with 1 Axes>"
      ]
     },
     "metadata": {
      "needs_background": "light"
     },
     "output_type": "display_data"
    },
    {
     "data": {
      "image/png": "[encoded data removed]",
      "text/plain": [
       "<Figure size 432x288 with 1 Axes>"
      ]
     },
     "metadata": {
      "needs_background": "light"
     },
     "output_type": "display_data"
    }
   ],
   "source": [
    "model_selection(X = X_train_log1, y = y_train, models = models, names = algoriths_names, modelname = 'Model1-1')"
   ]
  },
  {
   "cell_type": "code",
   "execution_count": 52,
   "metadata": {
    "ExecuteTime": {
     "end_time": "2020-05-29T12:26:54.324074Z",
     "start_time": "2020-05-29T12:26:53.865437Z"
    }
   },
   "outputs": [
    {
     "name": "stdout",
     "output_type": "stream",
     "text": [
      "CV R2: -0.401 +/- 0.739\n",
      "Ade1 CV R2: -0.404 +/- 0.724\n",
      "Ade2 CV R2: -0.426 +/- 0.778\n",
      "Minerio CV R2: -0.943 +/- 1.367\n",
      "Calcario CV R2: -0.574 +/- 0.849\n",
      "Recirculacao CV R2: -3.067 +/- 5.726\n",
      "FeT CV R2: -0.360 +/- 0.766\n",
      "SiO2 CV R2: -0.293 +/- 0.672\n",
      "Al2O3 CV R2: -0.379 +/- 0.689\n",
      "CaO CV R2: -0.384 +/- 0.723\n",
      "MgO CV R2: -0.395 +/- 0.730\n",
      "TiO2 CV R2: -0.395 +/- 0.770\n",
      "Mn CV R2: -0.382 +/- 0.722\n",
      "P CV R2: -0.407 +/- 0.706\n",
      "S CV R2: -0.378 +/- 0.758\n",
      "ZnO CV R2: -0.543 +/- 0.871\n",
      "K2O CV R2: -0.473 +/- 0.831\n",
      "Na2O CV R2: -0.410 +/- 0.805\n",
      "FeO Meter CV R2: -0.331 +/- 0.677\n",
      "PPC CV R2: -0.483 +/- 0.976\n",
      "m635 CV R2: -0.396 +/- 0.789\n",
      "m283 CV R2: -0.209 +/- 0.465\n",
      "en05e283 CV R2: -0.281 +/- 0.649\n",
      "m100 CV R2: -0.397 +/- 0.738\n",
      "me0.50 CV R2: -0.408 +/- 0.736\n",
      "me0105 CV R2: -0.400 +/- 0.743\n",
      "T.M. CV R2: -0.408 +/- 0.718\n",
      "['FeT', 'SiO2', 'Al2O3', 'CaO', 'MgO', 'TiO2', 'Mn', 'S', 'FeO Meter', 'm635', 'm283', 'en05e283', 'm100', 'me0105']\n"
     ]
    }
   ],
   "source": [
    "loganalization(X_train,y_train)"
   ]
  },
  {
   "cell_type": "code",
   "execution_count": 54,
   "metadata": {
    "ExecuteTime": {
     "end_time": "2020-05-29T12:28:55.826194Z",
     "start_time": "2020-05-29T12:28:55.816194Z"
    }
   },
   "outputs": [],
   "source": [
    "X_train_log = X_train.copy()\n",
    "\n",
    "use_log = ['FeT', 'SiO2', 'Al2O3', 'CaO', 'MgO', 'TiO2', 'Mn', 'S', 'FeO Meter', 'm635', 'm283', 'en05e283', 'm100', 'me0105']\n",
    "\n",
    "X_train_log[use_log] = np.log(X_train_log[use_log])"
   ]
  },
  {
   "cell_type": "code",
   "execution_count": 55,
   "metadata": {
    "ExecuteTime": {
     "end_time": "2020-05-29T12:33:34.738515Z",
     "start_time": "2020-05-29T12:33:29.863557Z"
    }
   },
   "outputs": [
    {
     "name": "stdout",
     "output_type": "stream",
     "text": [
      "           Algorithm        R2    R2 Std     RMSE RMSE Std\n",
      "0                Knn  -2.01183   2.13706  4.02695   1.5385\n",
      "1  Linear Regression -0.118526  0.544216  7.90585  3.76981\n",
      "2              Ridge -0.903999   1.41869   3.6309   1.4087\n",
      "3              Lasso  -13.4471   11.6905  5.02743  2.04034\n",
      "4         ElasticNet  -6.85835   5.20186  4.83991  2.00559\n",
      "5      Random Forest  -2.41388   2.49089  4.24781  2.09827\n",
      "6            XGBoost  -1.03112    1.5776  3.55072  1.64687\n",
      "7      SVM Regressor  -7.96819   5.17869  4.36443  1.61806\n"
     ]
    },
    {
     "data": {
      "image/png": "[encoded data removed]",
      "text/plain": [
       "<Figure size 432x288 with 1 Axes>"
      ]
     },
     "metadata": {
      "needs_background": "light"
     },
     "output_type": "display_data"
    },
    {
     "data": {
      "image/png": "[encoded data removed]",
      "text/plain": [
       "<Figure size 432x288 with 1 Axes>"
      ]
     },
     "metadata": {
      "needs_background": "light"
     },
     "output_type": "display_data"
    },
    {
     "data": {
      "image/png": "[encoded data removed]",
      "text/plain": [
       "<Figure size 432x288 with 1 Axes>"
      ]
     },
     "metadata": {
      "needs_background": "light"
     },
     "output_type": "display_data"
    },
    {
     "data": {
      "image/png": "[encoded data removed]",
      "text/plain": [
       "<Figure size 432x288 with 1 Axes>"
      ]
     },
     "metadata": {
      "needs_background": "light"
     },
     "output_type": "display_data"
    },
    {
     "data": {
      "image/png": "[encoded data removed]",
      "text/plain": [
       "<Figure size 432x288 with 1 Axes>"
      ]
     },
     "metadata": {
      "needs_background": "light"
     },
     "output_type": "display_data"
    },
    {
     "data": {
      "image/png": "[encoded data removed]",
      "text/plain": [
       "<Figure size 432x288 with 1 Axes>"
      ]
     },
     "metadata": {
      "needs_background": "light"
     },
     "output_type": "display_data"
    },
    {
     "data": {
      "image/png": "[encoded data removed]",
      "text/plain": [
       "<Figure size 432x288 with 1 Axes>"
      ]
     },
     "metadata": {
      "needs_background": "light"
     },
     "output_type": "display_data"
    },
    {
     "data": {
      "image/png": "[encoded data removed]",
      "text/plain": [
       "<Figure size 432x288 with 1 Axes>"
      ]
     },
     "metadata": {
      "needs_background": "light"
     },
     "output_type": "display_data"
    }
   ],
   "source": [
    "model_selection(X = X_train_log, y = y_train, models = models, names = algoriths_names, modelname = 'Model1-1')"
   ]
  },
  {
   "cell_type": "markdown",
   "metadata": {},
   "source": [
    "# Feature Selection on 4 best models"
   ]
  },
  {
   "cell_type": "code",
   "execution_count": 64,
   "metadata": {
    "ExecuteTime": {
     "end_time": "2020-05-29T12:43:01.731819Z",
     "start_time": "2020-05-29T12:43:01.727861Z"
    }
   },
   "outputs": [],
   "source": [
    "from sklearn.feature_selection import SelectKBest, SelectPercentile, f_regression"
   ]
  },
  {
   "cell_type": "code",
   "execution_count": 66,
   "metadata": {
    "ExecuteTime": {
     "end_time": "2020-05-29T12:47:04.277771Z",
     "start_time": "2020-05-29T12:47:04.274779Z"
    }
   },
   "outputs": [],
   "source": [
    "Kfolds = KFold(n_splits=5, random_state=42, shuffle=True)"
   ]
  },
  {
   "cell_type": "markdown",
   "metadata": {},
   "source": [
    "## Linear Regression"
   ]
  },
  {
   "cell_type": "code",
   "execution_count": 89,
   "metadata": {
    "ExecuteTime": {
     "end_time": "2020-05-29T13:00:59.091233Z",
     "start_time": "2020-05-29T13:00:58.700162Z"
    }
   },
   "outputs": [
    {
     "name": "stdout",
     "output_type": "stream",
     "text": [
      "k = 2 - R2 = 0.10468987953606952 +/- 0.2798237751252837\n",
      "k = 3 - R2 = 0.09676548421520623 +/- 0.2778960251861164\n",
      "k = 4 - R2 = 0.06890186207421278 +/- 0.27378319908264465\n",
      "k = 5 - R2 = 0.2879280268176875 +/- 0.13740858839321948\n",
      "k = 6 - R2 = 0.4029025599546309 +/- 0.14608893919301372\n",
      "k = 7 - R2 = 0.4076334021763001 +/- 0.1051017504019357\n",
      "k = 8 - R2 = 0.3881405317200412 +/- 0.15236956913627583\n",
      "k = 9 - R2 = 0.42614600295656935 +/- 0.16371373353469282\n",
      "k = 10 - R2 = 0.40003800402363493 +/- 0.1595741825834072\n",
      "k = 11 - R2 = 0.46382823006216134 +/- 0.1948656797289572\n",
      "k = 12 - R2 = 0.4821469518913414 +/- 0.2154909624771776\n",
      "k = 13 - R2 = 0.45346353288627483 +/- 0.23800863165988198\n",
      "k = 14 - R2 = 0.4899264054131871 +/- 0.08817565764411717\n",
      "k = 15 - R2 = 0.41052652720570276 +/- 0.2533643433225948\n",
      "k = 16 - R2 = 0.3079978149245914 +/- 0.40443796032068347\n",
      "k = 17 - R2 = 0.2861479753579089 +/- 0.38869472234818164\n",
      "k = 18 - R2 = 0.21725146030356107 +/- 0.38658160852732876\n",
      "k = 19 - R2 = 0.14507970963993322 +/- 0.4203365215793836\n",
      "k = 20 - R2 = -0.0500641280645963 +/- 0.7804575045813534\n",
      "k = 21 - R2 = -0.20992140438487333 +/- 0.8531204230324151\n",
      "k = 22 - R2 = -0.2360612823124068 +/- 0.8708662129900631\n",
      "k = 23 - R2 = -0.2665852989225972 +/- 0.8804934759408897\n",
      "k = 24 - R2 = -0.6683903456231747 +/- 1.083067146563682\n",
      "k = 25 - R2 = -1.04544146915201 +/- 1.3125153122066262\n"
     ]
    }
   ],
   "source": [
    "k_vs_score = []\n",
    "k_vs_score_stdma = []\n",
    "k_vs_score_stdme = []\n",
    "\n",
    "\n",
    "for k in range(2,26):\n",
    "    selector = SelectKBest(score_func = f_regression, k = k)\n",
    "    \n",
    "    Xtrain2 = selector.fit_transform(X_train_log, y_train)\n",
    "    \n",
    "    r2 = cross_val_score(estimator = linear, X=Xtrain2, y=y_train, cv=Kfolds, n_jobs = -1,scoring = 'r2')\n",
    "    \n",
    "    print('k = {} - R2 = {} +/- {}'.format(k,np.mean(r2),np.std(r2)))\n",
    "    \n",
    "    k_vs_score.append(np.mean(r2))\n",
    "    k_vs_score_stdma.append(np.mean(r2)+np.std(r2))\n",
    "    k_vs_score_stdme.append(np.mean(r2)-np.std(r2))"
   ]
  },
  {
   "cell_type": "code",
   "execution_count": 90,
   "metadata": {
    "ExecuteTime": {
     "end_time": "2020-05-29T13:01:18.298056Z",
     "start_time": "2020-05-29T13:01:18.122494Z"
    }
   },
   "outputs": [
    {
     "data": {
      "text/plain": [
       "<matplotlib.collections.PolyCollection at 0x21a8353c6d8>"
      ]
     },
     "execution_count": 90,
     "metadata": {},
     "output_type": "execute_result"
    },
    {
     "data": {
      "image/png": "[encoded data removed]",
      "text/plain": [
       "<Figure size 720x504 with 1 Axes>"
      ]
     },
     "metadata": {
      "needs_background": "light"
     },
     "output_type": "display_data"
    }
   ],
   "source": [
    "pd.Series(k_vs_score, index = range(2,26)).plot(figsize = (10,7))\n",
    "plt.fill_between(range(2,26),k_vs_score_stdma,k_vs_score_stdme,alpha=.1)"
   ]
  },
  {
   "cell_type": "code",
   "execution_count": 93,
   "metadata": {
    "ExecuteTime": {
     "end_time": "2020-05-29T13:07:24.757084Z",
     "start_time": "2020-05-29T13:07:24.749114Z"
    }
   },
   "outputs": [
    {
     "data": {
      "text/plain": [
       "Index(['Ade2', 'Calcario', 'Recirculacao', 'FeT', 'SiO2', 'CaO', 'MgO', 'K2O',\n",
       "       'Na2O', 'PPC', 'en05e283', 'm100', 'me0.50', 'me0105'],\n",
       "      dtype='object')"
      ]
     },
     "execution_count": 93,
     "metadata": {},
     "output_type": "execute_result"
    }
   ],
   "source": [
    "selector = SelectKBest(score_func = f_regression, k= 14)\n",
    "selector.fit(X_train_log,y_train)\n",
    "X_train_log.columns[selector.get_support()]"
   ]
  },
  {
   "cell_type": "markdown",
   "metadata": {},
   "source": [
    "## Knn"
   ]
  },
  {
   "cell_type": "code",
   "execution_count": 96,
   "metadata": {
    "ExecuteTime": {
     "end_time": "2020-05-29T13:21:14.307130Z",
     "start_time": "2020-05-29T13:21:10.156319Z"
    }
   },
   "outputs": [
    {
     "name": "stdout",
     "output_type": "stream",
     "text": [
      "k = 2 - R2 = -0.030019737709431716 +/- 0.42461087164485134\n",
      "k = 3 - R2 = -0.0036242358144394915 +/- 0.5191340478521658\n",
      "k = 4 - R2 = 0.1412298338530159 +/- 0.33178990406232767\n",
      "k = 5 - R2 = 0.4051186789596223 +/- 0.15669517961095494\n",
      "k = 6 - R2 = 0.5688721686520714 +/- 0.08262558439091511\n",
      "k = 7 - R2 = 0.5096177219845575 +/- 0.11858791234247355\n",
      "k = 8 - R2 = 0.46425304208976936 +/- 0.12818960850911093\n",
      "k = 9 - R2 = 0.507729952247875 +/- 0.11006712149482031\n",
      "k = 10 - R2 = 0.45587366258414397 +/- 0.14727731738193237\n",
      "k = 11 - R2 = 0.42682356738880023 +/- 0.16110874549962825\n",
      "k = 12 - R2 = 0.4234069141890694 +/- 0.15218180894352654\n",
      "k = 13 - R2 = 0.3733967358823233 +/- 0.16399942191455386\n",
      "k = 14 - R2 = 0.40155069306019353 +/- 0.16545416090341736\n",
      "k = 15 - R2 = 0.4644863590429999 +/- 0.1772502406321956\n",
      "k = 16 - R2 = 0.45056902397226856 +/- 0.1936359037598913\n",
      "k = 17 - R2 = 0.4765106799810125 +/- 0.14584393430756162\n",
      "k = 18 - R2 = 0.48419120182968933 +/- 0.1628529623931301\n",
      "k = 19 - R2 = 0.4270185502187352 +/- 0.18680393708976015\n",
      "k = 20 - R2 = 0.42320580587245227 +/- 0.1816761801473376\n",
      "k = 21 - R2 = 0.4214212864235498 +/- 0.14969073821801843\n",
      "k = 22 - R2 = 0.4251710649641879 +/- 0.1825973617684068\n",
      "k = 23 - R2 = 0.4056853357730962 +/- 0.18877595335969052\n",
      "k = 24 - R2 = 0.37532679379294 +/- 0.1419841750400273\n",
      "k = 25 - R2 = 0.39266391662890826 +/- 0.1549050130349081\n"
     ]
    },
    {
     "data": {
      "text/plain": [
       "Index(['Calcario', 'FeT', 'CaO', 'PPC', 'en05e283', 'm100'], dtype='object')"
      ]
     },
     "execution_count": 96,
     "metadata": {},
     "output_type": "execute_result"
    },
    {
     "data": {
      "image/png": "[encoded data removed]",
      "text/plain": [
       "<Figure size 720x504 with 1 Axes>"
      ]
     },
     "metadata": {
      "needs_background": "light"
     },
     "output_type": "display_data"
    }
   ],
   "source": [
    "k_vs_score = []\n",
    "k_vs_score_stdma = []\n",
    "k_vs_score_stdme = []\n",
    "\n",
    "\n",
    "for k in range(2,26):\n",
    "    selector = SelectKBest(score_func = f_regression, k = k)\n",
    "    \n",
    "    Xtrain2 = selector.fit_transform(X_train_log, y_train)\n",
    "    \n",
    "    r2 = cross_val_score(estimator = pipe_knr, X=Xtrain2, y=y_train, cv=Kfolds, n_jobs = -1,scoring = 'r2')\n",
    "    \n",
    "    print('k = {} - R2 = {} +/- {}'.format(k,np.mean(r2),np.std(r2)))\n",
    "    \n",
    "    k_vs_score.append(np.mean(r2))\n",
    "    k_vs_score_stdma.append(np.mean(r2)+np.std(r2))\n",
    "    k_vs_score_stdme.append(np.mean(r2)-np.std(r2))\n",
    "    \n",
    "pd.Series(k_vs_score, index = range(2,26)).plot(figsize = (10,7))\n",
    "plt.fill_between(range(2,26),k_vs_score_stdma,k_vs_score_stdme,alpha=.1)\n",
    "\n",
    "selector = SelectKBest(score_func = f_regression, k= 6)\n",
    "selector.fit(X_train_log,y_train)\n",
    "X_train_log.columns[selector.get_support()]"
   ]
  },
  {
   "cell_type": "markdown",
   "metadata": {},
   "source": [
    "## XGBoost"
   ]
  },
  {
   "cell_type": "code",
   "execution_count": 102,
   "metadata": {
    "ExecuteTime": {
     "end_time": "2020-05-29T13:35:21.809286Z",
     "start_time": "2020-05-29T13:35:16.657316Z"
    }
   },
   "outputs": [
    {
     "name": "stdout",
     "output_type": "stream",
     "text": [
      "k = 2 - R2 = -0.10754257181025277 +/- 0.2449857673280872\n",
      "k = 3 - R2 = 0.01408573783244591 +/- 0.35964126537487184\n",
      "k = 4 - R2 = 0.03803179375518506 +/- 0.3273267022987369\n",
      "k = 5 - R2 = 0.3276929677280157 +/- 0.2285214927198551\n",
      "k = 6 - R2 = 0.5358906940647474 +/- 0.09960991720099636\n",
      "k = 7 - R2 = 0.518132593704171 +/- 0.06369976627168873\n",
      "k = 8 - R2 = 0.5127671055001131 +/- 0.04972287269110726\n",
      "k = 9 - R2 = 0.5305025705704426 +/- 0.05175151430277055\n",
      "k = 10 - R2 = 0.5339179364460114 +/- 0.05355516312840441\n",
      "k = 11 - R2 = 0.5632295143656572 +/- 0.06081903880873482\n",
      "k = 12 - R2 = 0.5025147578019517 +/- 0.07417344189964785\n",
      "k = 13 - R2 = 0.4938482421150435 +/- 0.08730653285012221\n",
      "k = 14 - R2 = 0.4770601297198243 +/- 0.08017291679610726\n",
      "k = 15 - R2 = 0.48355537924425407 +/- 0.07813609204155532\n",
      "k = 16 - R2 = 0.45131662933378236 +/- 0.11504965625883712\n",
      "k = 17 - R2 = 0.46583527575911415 +/- 0.09509522605857694\n",
      "k = 18 - R2 = 0.47071466234231585 +/- 0.0969718293580854\n",
      "k = 19 - R2 = 0.44791958667304216 +/- 0.08001787662009874\n",
      "k = 20 - R2 = 0.43915802428256373 +/- 0.10901397303029212\n",
      "k = 21 - R2 = 0.41500891354037295 +/- 0.07098685234508294\n",
      "k = 22 - R2 = 0.41425490350906546 +/- 0.05877618055037606\n",
      "k = 23 - R2 = 0.4320804216476999 +/- 0.08264249626960635\n",
      "k = 24 - R2 = 0.42891415097430946 +/- 0.12891605061089204\n",
      "k = 25 - R2 = 0.43219691150365636 +/- 0.11869034765136681\n"
     ]
    },
    {
     "data": {
      "text/plain": [
       "<matplotlib.collections.PolyCollection at 0x21a8101be10>"
      ]
     },
     "execution_count": 102,
     "metadata": {},
     "output_type": "execute_result"
    },
    {
     "data": {
      "image/png": "[encoded data removed]",
      "text/plain": [
       "<Figure size 720x504 with 1 Axes>"
      ]
     },
     "metadata": {
      "needs_background": "light"
     },
     "output_type": "display_data"
    }
   ],
   "source": [
    "k_vs_score = []\n",
    "k_vs_score_stdma = []\n",
    "k_vs_score_stdme = []\n",
    "\n",
    "\n",
    "for k in range(2,26):\n",
    "    selector = SelectKBest(score_func = f_regression, k = k)\n",
    "    \n",
    "    Xtrain2 = selector.fit_transform(X_train_log, y_train)\n",
    "    \n",
    "    r2 = cross_val_score(estimator = xgb, X=Xtrain2, y=y_train, cv=Kfolds, n_jobs = -1,scoring = 'r2')\n",
    "    \n",
    "    print('k = {} - R2 = {} +/- {}'.format(k,np.mean(r2),np.std(r2)))\n",
    "    \n",
    "    k_vs_score.append(np.mean(r2))\n",
    "    k_vs_score_stdma.append(np.mean(r2)+np.std(r2))\n",
    "    k_vs_score_stdme.append(np.mean(r2)-np.std(r2))\n",
    "    \n",
    "pd.Series(k_vs_score, index = range(2,26)).plot(figsize = (10,7))\n",
    "plt.fill_between(range(2,26),k_vs_score_stdma,k_vs_score_stdme,alpha=.1)"
   ]
  },
  {
   "cell_type": "code",
   "execution_count": 103,
   "metadata": {
    "ExecuteTime": {
     "end_time": "2020-05-29T13:35:46.744025Z",
     "start_time": "2020-05-29T13:35:46.735017Z"
    }
   },
   "outputs": [
    {
     "data": {
      "text/plain": [
       "Index(['Ade2', 'Calcario', 'FeT', 'SiO2', 'CaO', 'MgO', 'Na2O', 'PPC',\n",
       "       'en05e283', 'm100', 'me0105'],\n",
       "      dtype='object')"
      ]
     },
     "execution_count": 103,
     "metadata": {},
     "output_type": "execute_result"
    }
   ],
   "source": [
    "selector = SelectKBest(score_func = f_regression, k= 11)\n",
    "selector.fit(X_train_log,y_train)\n",
    "X_train_log.columns[selector.get_support()]"
   ]
  },
  {
   "cell_type": "markdown",
   "metadata": {},
   "source": [
    "## SVR"
   ]
  },
  {
   "cell_type": "code",
   "execution_count": 106,
   "metadata": {
    "ExecuteTime": {
     "end_time": "2020-05-29T13:38:00.754227Z",
     "start_time": "2020-05-29T13:37:59.998275Z"
    }
   },
   "outputs": [
    {
     "name": "stdout",
     "output_type": "stream",
     "text": [
      "k = 2 - R2 = 0.008395268209403062 +/- 0.20074832416612748\n",
      "k = 3 - R2 = -0.0162543730222815 +/- 0.392789142514422\n",
      "k = 4 - R2 = -0.0030467811614858674 +/- 0.39511944640082397\n",
      "k = 5 - R2 = 0.06654243497263046 +/- 0.2904828523280313\n",
      "k = 6 - R2 = 0.28250043331869223 +/- 0.2524380292851948\n",
      "k = 7 - R2 = 0.403950569986509 +/- 0.19925548324412898\n",
      "k = 8 - R2 = 0.3913300499792809 +/- 0.21000632090022425\n",
      "k = 9 - R2 = 0.4127119463410011 +/- 0.23144657339188016\n",
      "k = 10 - R2 = 0.40806913749645124 +/- 0.22996142849984222\n",
      "k = 11 - R2 = 0.4729102440274785 +/- 0.2302231318242358\n",
      "k = 12 - R2 = 0.43426430048445147 +/- 0.21509909108103809\n",
      "k = 13 - R2 = 0.41553212341991086 +/- 0.2155768796349172\n",
      "k = 14 - R2 = 0.3094180479082676 +/- 0.1664114020156643\n",
      "k = 15 - R2 = 0.39461440080372184 +/- 0.18185609702691863\n",
      "k = 16 - R2 = 0.32165971595578313 +/- 0.21464769956747282\n",
      "k = 17 - R2 = 0.2898049236284937 +/- 0.21936612128371855\n",
      "k = 18 - R2 = 0.3467517298516736 +/- 0.2322233087984742\n",
      "k = 19 - R2 = 0.3340001241623783 +/- 0.21603493859017014\n",
      "k = 20 - R2 = 0.16778494547677889 +/- 0.48735833339620754\n",
      "k = 21 - R2 = 0.10455743889273161 +/- 0.4635132412895093\n",
      "k = 22 - R2 = 0.06607379719384802 +/- 0.402692659539229\n",
      "k = 23 - R2 = -0.036228204960138365 +/- 0.45179223132640967\n",
      "k = 24 - R2 = -0.08445960415934235 +/- 0.48513974616630295\n",
      "k = 25 - R2 = -0.16269451915123578 +/- 0.4078702209534718\n"
     ]
    },
    {
     "data": {
      "text/plain": [
       "<matplotlib.collections.PolyCollection at 0x21a814836a0>"
      ]
     },
     "execution_count": 106,
     "metadata": {},
     "output_type": "execute_result"
    },
    {
     "data": {
      "image/png": "[encoded data removed]",
      "text/plain": [
       "<Figure size 720x504 with 1 Axes>"
      ]
     },
     "metadata": {
      "needs_background": "light"
     },
     "output_type": "display_data"
    }
   ],
   "source": [
    "k_vs_score = []\n",
    "k_vs_score_stdma = []\n",
    "k_vs_score_stdme = []\n",
    "\n",
    "\n",
    "for k in range(2,26):\n",
    "    selector = SelectKBest(score_func = f_regression, k = k)\n",
    "    \n",
    "    Xtrain2 = selector.fit_transform(X_train_log, y_train)\n",
    "    \n",
    "    r2 = cross_val_score(estimator = pipe_svr, X=Xtrain2, y=y_train, cv=Kfolds, n_jobs = -1,scoring = 'r2')\n",
    "    \n",
    "    print('k = {} - R2 = {} +/- {}'.format(k,np.mean(r2),np.std(r2)))\n",
    "    \n",
    "    k_vs_score.append(np.mean(r2))\n",
    "    k_vs_score_stdma.append(np.mean(r2)+np.std(r2))\n",
    "    k_vs_score_stdme.append(np.mean(r2)-np.std(r2))\n",
    "    \n",
    "pd.Series(k_vs_score, index = range(2,26)).plot(figsize = (10,7))\n",
    "plt.fill_between(range(2,26),k_vs_score_stdma,k_vs_score_stdme,alpha=.1)"
   ]
  },
  {
   "cell_type": "code",
   "execution_count": 108,
   "metadata": {
    "ExecuteTime": {
     "end_time": "2020-05-29T13:40:20.082678Z",
     "start_time": "2020-05-29T13:40:20.073703Z"
    }
   },
   "outputs": [
    {
     "data": {
      "text/plain": [
       "Index(['Ade2', 'Calcario', 'FeT', 'SiO2', 'CaO', 'MgO', 'Na2O', 'PPC',\n",
       "       'en05e283', 'm100', 'me0105'],\n",
       "      dtype='object')"
      ]
     },
     "execution_count": 108,
     "metadata": {},
     "output_type": "execute_result"
    }
   ],
   "source": [
    "selector = SelectKBest(score_func = f_regression, k= 11)\n",
    "selector.fit(X_train_log,y_train)\n",
    "X_train_log.columns[selector.get_support()]"
   ]
  },
  {
   "cell_type": "markdown",
   "metadata": {},
   "source": [
    "# Hypertraining"
   ]
  },
  {
   "cell_type": "markdown",
   "metadata": {},
   "source": [
    "## Linear Regression"
   ]
  },
  {
   "cell_type": "code",
   "execution_count": 117,
   "metadata": {
    "ExecuteTime": {
     "end_time": "2020-05-29T13:55:34.524710Z",
     "start_time": "2020-05-29T13:55:34.518760Z"
    }
   },
   "outputs": [],
   "source": [
    "X_train_lr = X_train_log[['Ade2', 'Calcario', 'Recirculacao', 'FeT', 'SiO2', 'CaO', 'MgO', 'K2O',\n",
    "       'Na2O', 'PPC', 'en05e283', 'm100', 'me0.50', 'me0105']]"
   ]
  },
  {
   "cell_type": "code",
   "execution_count": 119,
   "metadata": {
    "ExecuteTime": {
     "end_time": "2020-05-29T14:16:33.853655Z",
     "start_time": "2020-05-29T14:16:29.835402Z"
    }
   },
   "outputs": [
    {
     "name": "stdout",
     "output_type": "stream",
     "text": [
      "CV RMSE: 1.621 +/- 0.213\n",
      "CV R2: 0.490 +/- 0.088\n",
      "CV MAE: 1.291 +/- 0.192\n"
     ]
    }
   ],
   "source": [
    "printCVresults(linear, X_train_lr, y_train, crossV = Kfolds)"
   ]
  },
  {
   "cell_type": "code",
   "execution_count": 118,
   "metadata": {
    "ExecuteTime": {
     "end_time": "2020-05-29T13:55:53.616939Z",
     "start_time": "2020-05-29T13:55:53.186085Z"
    }
   },
   "outputs": [
    {
     "name": "stdout",
     "output_type": "stream",
     "text": [
      "CV RMSE: 2.673 +/- 0.626\n",
      "CV R2: 0.303 +/- 0.175\n"
     ]
    },
    {
     "data": {
      "image/png": "[encoded data removed]",
      "text/plain": [
       "<Figure size 432x288 with 1 Axes>"
      ]
     },
     "metadata": {
      "needs_background": "light"
     },
     "output_type": "display_data"
    },
    {
     "data": {
      "image/png": "[encoded data removed]",
      "text/plain": [
       "<Figure size 432x288 with 1 Axes>"
      ]
     },
     "metadata": {
      "needs_background": "light"
     },
     "output_type": "display_data"
    }
   ],
   "source": [
    "modelevaluation(X = X_train_lr, y = y_train, model = linear)"
   ]
  },
  {
   "cell_type": "markdown",
   "metadata": {},
   "source": [
    "## KNN"
   ]
  },
  {
   "cell_type": "code",
   "execution_count": 109,
   "metadata": {
    "ExecuteTime": {
     "end_time": "2020-05-29T13:41:24.479220Z",
     "start_time": "2020-05-29T13:41:23.969590Z"
    }
   },
   "outputs": [
    {
     "name": "stdout",
     "output_type": "stream",
     "text": [
      "{'kneighborsregressor__n_neighbors': 5, 'kneighborsregressor__weights': 'uniform'}\n",
      "0.5688721686520712\n"
     ]
    }
   ],
   "source": [
    "X_train_knn = X_train_log[['Calcario', 'FeT', 'CaO', 'PPC', 'en05e283', 'm100']]\n",
    "param_grid = {'kneighborsregressor__n_neighbors': np.arange(1, 25),\n",
    "             'kneighborsregressor__weights':('uniform','distance')}\n",
    "\n",
    "knn_gscv = GridSearchCV(estimator = pipe_knr, param_grid = param_grid, scoring = 'r2' ,cv = Kfolds, n_jobs = -1)\n",
    "\n",
    "knn_gscv.fit(X_train_knn, y_train)\n",
    "\n",
    "print(knn_gscv.best_params_)\n",
    "print(knn_gscv.best_score_)"
   ]
  },
  {
   "cell_type": "code",
   "execution_count": 110,
   "metadata": {
    "ExecuteTime": {
     "end_time": "2020-05-29T13:41:38.241566Z",
     "start_time": "2020-05-29T13:41:38.162740Z"
    },
    "scrolled": true
   },
   "outputs": [
    {
     "name": "stdout",
     "output_type": "stream",
     "text": [
      "CV RMSE: 1.500 +/- 0.266\n",
      "CV R2: 0.569 +/- 0.083\n",
      "CV MAE: 1.239 +/- 0.277\n"
     ]
    }
   ],
   "source": [
    "printCVresults(knn_gscv.best_estimator_, X_train_knn, y_train , crossV = Kfolds)"
   ]
  },
  {
   "cell_type": "code",
   "execution_count": 115,
   "metadata": {
    "ExecuteTime": {
     "end_time": "2020-05-29T13:51:14.744294Z",
     "start_time": "2020-05-29T13:51:14.375281Z"
    }
   },
   "outputs": [
    {
     "name": "stdout",
     "output_type": "stream",
     "text": [
      "CV RMSE: 2.322 +/- 0.744\n",
      "CV R2: 0.045 +/- 0.302\n"
     ]
    },
    {
     "data": {
      "image/png": "[encoded data removed]",
      "text/plain": [
       "<Figure size 432x288 with 1 Axes>"
      ]
     },
     "metadata": {
      "needs_background": "light"
     },
     "output_type": "display_data"
    },
    {
     "data": {
      "image/png": "[encoded data removed]",
      "text/plain": [
       "<Figure size 432x288 with 1 Axes>"
      ]
     },
     "metadata": {
      "needs_background": "light"
     },
     "output_type": "display_data"
    }
   ],
   "source": [
    "modelevaluation(X = X_train_knn, y = y_train, model = knn_gscv.best_estimator_)"
   ]
  },
  {
   "cell_type": "markdown",
   "metadata": {},
   "source": [
    "## XGB"
   ]
  },
  {
   "cell_type": "code",
   "execution_count": 111,
   "metadata": {
    "ExecuteTime": {
     "end_time": "2020-05-29T13:45:43.769526Z",
     "start_time": "2020-05-29T13:44:09.370139Z"
    }
   },
   "outputs": [
    {
     "name": "stdout",
     "output_type": "stream",
     "text": [
      "{'colsample_bytree': 0.4, 'gamma': 0.0, 'learning_rate': 0.25, 'max_depth': 4, 'min_child_weight': 3}\n",
      "0.6528524831902923\n"
     ]
    }
   ],
   "source": [
    "X_train_xgb = X_train_log[['Ade2', 'Calcario', 'FeT', 'SiO2', 'CaO', 'MgO', 'Na2O', 'PPC',\n",
    "       'en05e283', 'm100', 'me0105']]\n",
    "\n",
    "parameters = {\"learning_rate\"    : [0.05, 0.10, 0.15, 0.20, 0.25, 0.30 ] ,\n",
    "     \"max_depth\"        : [ 3, 4, 5, 6, 8, 9],\n",
    "     \"min_child_weight\" : [ 1, 3, 5],\n",
    "     \"gamma\"            : [ 0.0, 0.1, 0.2 , 0.3, 0.4 ],\n",
    "     \"colsample_bytree\" : [ 0.3, 0.4, 0.5 , 0.7 ] }\n",
    "\n",
    "xgb_gscv = GridSearchCV(estimator = xgb,\n",
    "                     param_grid = parameters,\n",
    "                     scoring='r2' ,\n",
    "                     cv = Kfolds,\n",
    "                     n_jobs = -1)\n",
    "\n",
    "xgb_gscv.fit(X_train_xgb, y_train)\n",
    "\n",
    "print(xgb_gscv.best_params_)\n",
    "print(xgb_gscv.best_score_)"
   ]
  },
  {
   "cell_type": "code",
   "execution_count": 113,
   "metadata": {
    "ExecuteTime": {
     "end_time": "2020-05-29T13:46:28.926035Z",
     "start_time": "2020-05-29T13:46:28.762475Z"
    }
   },
   "outputs": [
    {
     "name": "stdout",
     "output_type": "stream",
     "text": [
      "CV RMSE: 1.314 +/- 0.248\n",
      "CV R2: 0.653 +/- 0.124\n",
      "CV MAE: 1.128 +/- 0.226\n"
     ]
    }
   ],
   "source": [
    "printCVresults(xgb_gscv.best_estimator_, X_train_xgb, y_train , crossV = Kfolds)"
   ]
  },
  {
   "cell_type": "code",
   "execution_count": 116,
   "metadata": {
    "ExecuteTime": {
     "end_time": "2020-05-29T13:52:15.704082Z",
     "start_time": "2020-05-29T13:52:15.218348Z"
    }
   },
   "outputs": [
    {
     "name": "stdout",
     "output_type": "stream",
     "text": [
      "CV RMSE: 1.788 +/- 0.623\n",
      "CV R2: 0.331 +/- 0.315\n"
     ]
    },
    {
     "data": {
      "image/png": "[encoded data removed]",
      "text/plain": [
       "<Figure size 432x288 with 1 Axes>"
      ]
     },
     "metadata": {
      "needs_background": "light"
     },
     "output_type": "display_data"
    },
    {
     "data": {
      "image/png": "[encoded data removed]",
      "text/plain": [
       "<Figure size 432x288 with 1 Axes>"
      ]
     },
     "metadata": {
      "needs_background": "light"
     },
     "output_type": "display_data"
    }
   ],
   "source": [
    "modelevaluation(X = X_train_xgb, y = y_train, model = xgb_gscv.best_estimator_)"
   ]
  },
  {
   "cell_type": "markdown",
   "metadata": {},
   "source": [
    "## SVR Parei aqui!"
   ]
  },
  {
   "cell_type": "code",
   "execution_count": 33,
   "metadata": {
    "ExecuteTime": {
     "end_time": "2020-05-20T12:16:04.545110Z",
     "start_time": "2020-05-20T12:14:34.381283Z"
    }
   },
   "outputs": [
    {
     "name": "stdout",
     "output_type": "stream",
     "text": [
      "[09:16:04] WARNING: src/objective/regression_obj.cu:152: reg:linear is now deprecated in favor of reg:squarederror.\n",
      "{'colsample_bytree': 0.5, 'gamma': 0.3, 'learning_rate': 0.25, 'max_depth': 5, 'min_child_weight': 3}\n",
      "0.5666325470629978\n"
     ]
    }
   ],
   "source": [
    "parameters = {\"learning_rate\"    : [0.05, 0.10, 0.15, 0.20, 0.25, 0.30 ] ,\n",
    "     \"max_depth\"        : [ 3, 4, 5, 6, 8, 9],\n",
    "     \"min_child_weight\" : [ 1, 3, 5],\n",
    "     \"gamma\"            : [ 0.0, 0.1, 0.2 , 0.3, 0.4 ],\n",
    "     \"colsample_bytree\" : [ 0.3, 0.4, 0.5 , 0.7 ] }\n",
    "\n",
    "xgb_gscv = GridSearchCV(estimator = xgb,\n",
    "                     param_grid = parameters,\n",
    "                     scoring='r2' ,\n",
    "                     cv = Kfolds,\n",
    "                     n_jobs = -1)\n",
    "\n",
    "xgb_gscv.fit(X_train5, y_train5)\n",
    "\n",
    "print(xgb_gscv.best_params_)\n",
    "print(xgb_gscv.best_score_)"
   ]
  },
  {
   "cell_type": "code",
   "execution_count": 35,
   "metadata": {
    "ExecuteTime": {
     "end_time": "2020-05-20T12:16:22.143287Z",
     "start_time": "2020-05-20T12:16:21.966760Z"
    }
   },
   "outputs": [
    {
     "name": "stdout",
     "output_type": "stream",
     "text": [
      "CV RMSE: 1.450 +/- 0.304\n",
      "CV R2: 0.567 +/- 0.177\n",
      "CV MAE: 1.276 +/- 0.266\n"
     ]
    }
   ],
   "source": [
    "printCVresults(xgb_gscv.best_estimator_, X_train5, y_train5 , crossV = Kfolds)"
   ]
  },
  {
   "cell_type": "markdown",
   "metadata": {},
   "source": [
    "# Test"
   ]
  },
  {
   "cell_type": "code",
   "execution_count": 22,
   "metadata": {
    "ExecuteTime": {
     "end_time": "2020-05-27T14:12:14.607444Z",
     "start_time": "2020-05-27T14:12:14.597472Z"
    }
   },
   "outputs": [],
   "source": [
    "final_model = linear.fit(X_train3,y_train3)"
   ]
  },
  {
   "cell_type": "code",
   "execution_count": 29,
   "metadata": {
    "ExecuteTime": {
     "end_time": "2020-05-27T14:18:11.716654Z",
     "start_time": "2020-05-27T14:18:08.385596Z"
    }
   },
   "outputs": [
    {
     "name": "stdout",
     "output_type": "stream",
     "text": [
      "CV RMSE: 1.619 +/- 0.147\n",
      "CV R2: 0.488 +/- 0.071\n",
      "CV MAE: 1.362 +/- 0.140\n"
     ]
    }
   ],
   "source": [
    "printCVresults(linear, X_train3, y_train3 , crossV = Kfolds)"
   ]
  },
  {
   "cell_type": "code",
   "execution_count": 64,
   "metadata": {
    "ExecuteTime": {
     "end_time": "2020-05-20T12:23:57.130711Z",
     "start_time": "2020-05-20T12:23:57.109735Z"
    },
    "collapsed": true
   },
   "outputs": [
    {
     "ename": "Exception",
     "evalue": "Data must be 1-dimensional",
     "output_type": "error",
     "traceback": [
      "\u001b[1;31m---------------------------------------------------------------------------\u001b[0m",
      "\u001b[1;31mException\u001b[0m                                 Traceback (most recent call last)",
      "\u001b[1;32m<ipython-input-64-b6c3ff62d93e>\u001b[0m in \u001b[0;36m<module>\u001b[1;34m\u001b[0m\n\u001b[1;32m----> 1\u001b[1;33m \u001b[0merrorvsreal\u001b[0m \u001b[1;33m(\u001b[0m \u001b[0mX\u001b[0m \u001b[1;33m=\u001b[0m \u001b[0mX_train3\u001b[0m\u001b[1;33m,\u001b[0m \u001b[0my\u001b[0m \u001b[1;33m=\u001b[0m \u001b[0my_train3\u001b[0m\u001b[1;33m,\u001b[0m \u001b[0mmodel\u001b[0m \u001b[1;33m=\u001b[0m \u001b[0mfinal_model\u001b[0m\u001b[1;33m,\u001b[0m \u001b[0mtarget\u001b[0m \u001b[1;33m=\u001b[0m \u001b[1;34m'RDI Pilha'\u001b[0m\u001b[1;33m,\u001b[0m \u001b[0msave_name\u001b[0m \u001b[1;33m=\u001b[0m \u001b[1;34m'Train'\u001b[0m\u001b[1;33m)\u001b[0m\u001b[1;33m\u001b[0m\u001b[1;33m\u001b[0m\u001b[0m\n\u001b[0m",
      "\u001b[1;32m<ipython-input-12-f9c68170c4b5>\u001b[0m in \u001b[0;36merrorvsreal\u001b[1;34m(X, y, model, target, save_name)\u001b[0m\n\u001b[0;32m      1\u001b[0m \u001b[1;32mdef\u001b[0m \u001b[0merrorvsreal\u001b[0m \u001b[1;33m(\u001b[0m\u001b[0mX\u001b[0m\u001b[1;33m,\u001b[0m\u001b[0my\u001b[0m\u001b[1;33m,\u001b[0m \u001b[0mmodel\u001b[0m\u001b[1;33m,\u001b[0m \u001b[0mtarget\u001b[0m\u001b[1;33m,\u001b[0m \u001b[0msave_name\u001b[0m\u001b[1;33m)\u001b[0m\u001b[1;33m:\u001b[0m\u001b[1;33m\u001b[0m\u001b[1;33m\u001b[0m\u001b[0m\n\u001b[1;32m----> 2\u001b[1;33m     \u001b[0my\u001b[0m\u001b[1;33m[\u001b[0m\u001b[1;34m'error'\u001b[0m\u001b[1;33m]\u001b[0m \u001b[1;33m=\u001b[0m \u001b[0my\u001b[0m\u001b[1;33m[\u001b[0m\u001b[0mtarget\u001b[0m\u001b[1;33m]\u001b[0m \u001b[1;33m-\u001b[0m \u001b[0mmodel\u001b[0m\u001b[1;33m.\u001b[0m\u001b[0mpredict\u001b[0m\u001b[1;33m(\u001b[0m\u001b[0mX\u001b[0m\u001b[1;33m)\u001b[0m\u001b[1;33m\u001b[0m\u001b[1;33m\u001b[0m\u001b[0m\n\u001b[0m\u001b[0;32m      3\u001b[0m     \u001b[0mplt\u001b[0m\u001b[1;33m.\u001b[0m\u001b[0mscatter\u001b[0m\u001b[1;33m(\u001b[0m\u001b[0my\u001b[0m\u001b[1;33m[\u001b[0m\u001b[0mtarget\u001b[0m\u001b[1;33m]\u001b[0m\u001b[1;33m,\u001b[0m \u001b[0my\u001b[0m\u001b[1;33m[\u001b[0m\u001b[1;34m'error'\u001b[0m\u001b[1;33m]\u001b[0m\u001b[1;33m.\u001b[0m\u001b[0mabs\u001b[0m\u001b[1;33m(\u001b[0m\u001b[1;33m)\u001b[0m\u001b[1;33m)\u001b[0m\u001b[1;33m\u001b[0m\u001b[1;33m\u001b[0m\u001b[0m\n\u001b[0;32m      4\u001b[0m     \u001b[0mplt\u001b[0m\u001b[1;33m.\u001b[0m\u001b[0mylabel\u001b[0m\u001b[1;33m(\u001b[0m\u001b[1;34m'Erro'\u001b[0m\u001b[1;33m)\u001b[0m\u001b[1;33m\u001b[0m\u001b[1;33m\u001b[0m\u001b[0m\n\u001b[0;32m      5\u001b[0m     \u001b[0mplt\u001b[0m\u001b[1;33m.\u001b[0m\u001b[0mxlabel\u001b[0m\u001b[1;33m(\u001b[0m\u001b[0mtarget\u001b[0m\u001b[1;33m)\u001b[0m\u001b[1;33m\u001b[0m\u001b[1;33m\u001b[0m\u001b[0m\n",
      "\u001b[1;32mC:\\ProgramData\\Anaconda3\\lib\\site-packages\\pandas\\core\\ops.py\u001b[0m in \u001b[0;36mwrapper\u001b[1;34m(left, right)\u001b[0m\n\u001b[0;32m   1583\u001b[0m         \u001b[0mresult\u001b[0m \u001b[1;33m=\u001b[0m \u001b[0msafe_na_op\u001b[0m\u001b[1;33m(\u001b[0m\u001b[0mlvalues\u001b[0m\u001b[1;33m,\u001b[0m \u001b[0mrvalues\u001b[0m\u001b[1;33m)\u001b[0m\u001b[1;33m\u001b[0m\u001b[1;33m\u001b[0m\u001b[0m\n\u001b[0;32m   1584\u001b[0m         return construct_result(left, result,\n\u001b[1;32m-> 1585\u001b[1;33m                                 index=left.index, name=res_name, dtype=None)\n\u001b[0m\u001b[0;32m   1586\u001b[0m \u001b[1;33m\u001b[0m\u001b[0m\n\u001b[0;32m   1587\u001b[0m     \u001b[0mwrapper\u001b[0m\u001b[1;33m.\u001b[0m\u001b[0m__name__\u001b[0m \u001b[1;33m=\u001b[0m \u001b[0mop_name\u001b[0m\u001b[1;33m\u001b[0m\u001b[1;33m\u001b[0m\u001b[0m\n",
      "\u001b[1;32mC:\\ProgramData\\Anaconda3\\lib\\site-packages\\pandas\\core\\ops.py\u001b[0m in \u001b[0;36m_construct_result\u001b[1;34m(left, result, index, name, dtype)\u001b[0m\n\u001b[0;32m   1472\u001b[0m     \u001b[1;32mnot\u001b[0m \u001b[0mbe\u001b[0m \u001b[0menough\u001b[0m\u001b[1;33m;\u001b[0m \u001b[0mwe\u001b[0m \u001b[0mstill\u001b[0m \u001b[0mneed\u001b[0m \u001b[0mto\u001b[0m \u001b[0moverride\u001b[0m \u001b[0mthe\u001b[0m \u001b[0mname\u001b[0m \u001b[0mattribute\u001b[0m\u001b[1;33m.\u001b[0m\u001b[1;33m\u001b[0m\u001b[1;33m\u001b[0m\u001b[0m\n\u001b[0;32m   1473\u001b[0m     \"\"\"\n\u001b[1;32m-> 1474\u001b[1;33m     \u001b[0mout\u001b[0m \u001b[1;33m=\u001b[0m \u001b[0mleft\u001b[0m\u001b[1;33m.\u001b[0m\u001b[0m_constructor\u001b[0m\u001b[1;33m(\u001b[0m\u001b[0mresult\u001b[0m\u001b[1;33m,\u001b[0m \u001b[0mindex\u001b[0m\u001b[1;33m=\u001b[0m\u001b[0mindex\u001b[0m\u001b[1;33m,\u001b[0m \u001b[0mdtype\u001b[0m\u001b[1;33m=\u001b[0m\u001b[0mdtype\u001b[0m\u001b[1;33m)\u001b[0m\u001b[1;33m\u001b[0m\u001b[1;33m\u001b[0m\u001b[0m\n\u001b[0m\u001b[0;32m   1475\u001b[0m \u001b[1;33m\u001b[0m\u001b[0m\n\u001b[0;32m   1476\u001b[0m     \u001b[0mout\u001b[0m\u001b[1;33m.\u001b[0m\u001b[0mname\u001b[0m \u001b[1;33m=\u001b[0m \u001b[0mname\u001b[0m\u001b[1;33m\u001b[0m\u001b[1;33m\u001b[0m\u001b[0m\n",
      "\u001b[1;32mC:\\ProgramData\\Anaconda3\\lib\\site-packages\\pandas\\core\\series.py\u001b[0m in \u001b[0;36m__init__\u001b[1;34m(self, data, index, dtype, name, copy, fastpath)\u001b[0m\n\u001b[0;32m    260\u001b[0m             \u001b[1;32melse\u001b[0m\u001b[1;33m:\u001b[0m\u001b[1;33m\u001b[0m\u001b[1;33m\u001b[0m\u001b[0m\n\u001b[0;32m    261\u001b[0m                 data = sanitize_array(data, index, dtype, copy,\n\u001b[1;32m--> 262\u001b[1;33m                                       raise_cast_failure=True)\n\u001b[0m\u001b[0;32m    263\u001b[0m \u001b[1;33m\u001b[0m\u001b[0m\n\u001b[0;32m    264\u001b[0m                 \u001b[0mdata\u001b[0m \u001b[1;33m=\u001b[0m \u001b[0mSingleBlockManager\u001b[0m\u001b[1;33m(\u001b[0m\u001b[0mdata\u001b[0m\u001b[1;33m,\u001b[0m \u001b[0mindex\u001b[0m\u001b[1;33m,\u001b[0m \u001b[0mfastpath\u001b[0m\u001b[1;33m=\u001b[0m\u001b[1;32mTrue\u001b[0m\u001b[1;33m)\u001b[0m\u001b[1;33m\u001b[0m\u001b[1;33m\u001b[0m\u001b[0m\n",
      "\u001b[1;32mC:\\ProgramData\\Anaconda3\\lib\\site-packages\\pandas\\core\\internals\\construction.py\u001b[0m in \u001b[0;36msanitize_array\u001b[1;34m(data, index, dtype, copy, raise_cast_failure)\u001b[0m\n\u001b[0;32m    656\u001b[0m     \u001b[1;32melif\u001b[0m \u001b[0msubarr\u001b[0m\u001b[1;33m.\u001b[0m\u001b[0mndim\u001b[0m \u001b[1;33m>\u001b[0m \u001b[1;36m1\u001b[0m\u001b[1;33m:\u001b[0m\u001b[1;33m\u001b[0m\u001b[1;33m\u001b[0m\u001b[0m\n\u001b[0;32m    657\u001b[0m         \u001b[1;32mif\u001b[0m \u001b[0misinstance\u001b[0m\u001b[1;33m(\u001b[0m\u001b[0mdata\u001b[0m\u001b[1;33m,\u001b[0m \u001b[0mnp\u001b[0m\u001b[1;33m.\u001b[0m\u001b[0mndarray\u001b[0m\u001b[1;33m)\u001b[0m\u001b[1;33m:\u001b[0m\u001b[1;33m\u001b[0m\u001b[1;33m\u001b[0m\u001b[0m\n\u001b[1;32m--> 658\u001b[1;33m             \u001b[1;32mraise\u001b[0m \u001b[0mException\u001b[0m\u001b[1;33m(\u001b[0m\u001b[1;34m'Data must be 1-dimensional'\u001b[0m\u001b[1;33m)\u001b[0m\u001b[1;33m\u001b[0m\u001b[1;33m\u001b[0m\u001b[0m\n\u001b[0m\u001b[0;32m    659\u001b[0m         \u001b[1;32melse\u001b[0m\u001b[1;33m:\u001b[0m\u001b[1;33m\u001b[0m\u001b[1;33m\u001b[0m\u001b[0m\n\u001b[0;32m    660\u001b[0m             \u001b[0msubarr\u001b[0m \u001b[1;33m=\u001b[0m \u001b[0mcom\u001b[0m\u001b[1;33m.\u001b[0m\u001b[0masarray_tuplesafe\u001b[0m\u001b[1;33m(\u001b[0m\u001b[0mdata\u001b[0m\u001b[1;33m,\u001b[0m \u001b[0mdtype\u001b[0m\u001b[1;33m=\u001b[0m\u001b[0mdtype\u001b[0m\u001b[1;33m)\u001b[0m\u001b[1;33m\u001b[0m\u001b[1;33m\u001b[0m\u001b[0m\n",
      "\u001b[1;31mException\u001b[0m: Data must be 1-dimensional"
     ]
    }
   ],
   "source": [
    "errorvsreal ( X = X_train3, y = y_train3, model = final_model, target = 'RDI Pilha', save_name = 'Train')"
   ]
  },
  {
   "cell_type": "code",
   "execution_count": 67,
   "metadata": {
    "ExecuteTime": {
     "end_time": "2020-05-20T12:24:29.713522Z",
     "start_time": "2020-05-20T12:24:29.708520Z"
    }
   },
   "outputs": [],
   "source": [
    "X_test = df_test[['FeT', 'SiO2', 'Na2O', 'PPC', 'm635', 'm283', 'en05e283', 'me0.50', 'T.M.']]\n",
    "y_test = pd.DataFrame(df_test['RDI Pilha'])"
   ]
  },
  {
   "cell_type": "code",
   "execution_count": 68,
   "metadata": {
    "ExecuteTime": {
     "end_time": "2020-05-20T12:24:30.283588Z",
     "start_time": "2020-05-20T12:24:30.275599Z"
    }
   },
   "outputs": [
    {
     "name": "stdout",
     "output_type": "stream",
     "text": [
      "CV RMSE: 1.017\n",
      "CV R2: 0.665\n",
      "CV MAE: 0.919\n"
     ]
    }
   ],
   "source": [
    "holdoutresults(final_model,X_test,y_test)"
   ]
  },
  {
   "cell_type": "code",
   "execution_count": 61,
   "metadata": {
    "ExecuteTime": {
     "end_time": "2020-05-20T12:22:24.671046Z",
     "start_time": "2020-05-20T12:22:24.648108Z"
    },
    "collapsed": true
   },
   "outputs": [
    {
     "ename": "Exception",
     "evalue": "Data must be 1-dimensional",
     "output_type": "error",
     "traceback": [
      "\u001b[1;31m---------------------------------------------------------------------------\u001b[0m",
      "\u001b[1;31mException\u001b[0m                                 Traceback (most recent call last)",
      "\u001b[1;32m<ipython-input-61-ce9424da2952>\u001b[0m in \u001b[0;36m<module>\u001b[1;34m\u001b[0m\n\u001b[1;32m----> 1\u001b[1;33m \u001b[0merrorvsreal\u001b[0m \u001b[1;33m(\u001b[0m \u001b[0mX\u001b[0m \u001b[1;33m=\u001b[0m \u001b[0mX_test\u001b[0m\u001b[1;33m,\u001b[0m \u001b[0my\u001b[0m \u001b[1;33m=\u001b[0m \u001b[0my_test\u001b[0m\u001b[1;33m,\u001b[0m \u001b[0mmodel\u001b[0m \u001b[1;33m=\u001b[0m \u001b[0mfinal_model\u001b[0m\u001b[1;33m,\u001b[0m \u001b[0mtarget\u001b[0m \u001b[1;33m=\u001b[0m \u001b[1;34m'RDI Pilha'\u001b[0m\u001b[1;33m,\u001b[0m \u001b[0msave_name\u001b[0m \u001b[1;33m=\u001b[0m \u001b[1;34m'Test'\u001b[0m\u001b[1;33m)\u001b[0m\u001b[1;33m\u001b[0m\u001b[1;33m\u001b[0m\u001b[0m\n\u001b[0m",
      "\u001b[1;32m<ipython-input-12-f9c68170c4b5>\u001b[0m in \u001b[0;36merrorvsreal\u001b[1;34m(X, y, model, target, save_name)\u001b[0m\n\u001b[0;32m      1\u001b[0m \u001b[1;32mdef\u001b[0m \u001b[0merrorvsreal\u001b[0m \u001b[1;33m(\u001b[0m\u001b[0mX\u001b[0m\u001b[1;33m,\u001b[0m\u001b[0my\u001b[0m\u001b[1;33m,\u001b[0m \u001b[0mmodel\u001b[0m\u001b[1;33m,\u001b[0m \u001b[0mtarget\u001b[0m\u001b[1;33m,\u001b[0m \u001b[0msave_name\u001b[0m\u001b[1;33m)\u001b[0m\u001b[1;33m:\u001b[0m\u001b[1;33m\u001b[0m\u001b[1;33m\u001b[0m\u001b[0m\n\u001b[1;32m----> 2\u001b[1;33m     \u001b[0my\u001b[0m\u001b[1;33m[\u001b[0m\u001b[1;34m'error'\u001b[0m\u001b[1;33m]\u001b[0m \u001b[1;33m=\u001b[0m \u001b[0my\u001b[0m\u001b[1;33m[\u001b[0m\u001b[0mtarget\u001b[0m\u001b[1;33m]\u001b[0m \u001b[1;33m-\u001b[0m \u001b[0mmodel\u001b[0m\u001b[1;33m.\u001b[0m\u001b[0mpredict\u001b[0m\u001b[1;33m(\u001b[0m\u001b[0mX\u001b[0m\u001b[1;33m)\u001b[0m\u001b[1;33m\u001b[0m\u001b[1;33m\u001b[0m\u001b[0m\n\u001b[0m\u001b[0;32m      3\u001b[0m     \u001b[0mplt\u001b[0m\u001b[1;33m.\u001b[0m\u001b[0mscatter\u001b[0m\u001b[1;33m(\u001b[0m\u001b[0my\u001b[0m\u001b[1;33m[\u001b[0m\u001b[0mtarget\u001b[0m\u001b[1;33m]\u001b[0m\u001b[1;33m,\u001b[0m \u001b[0my\u001b[0m\u001b[1;33m[\u001b[0m\u001b[1;34m'error'\u001b[0m\u001b[1;33m]\u001b[0m\u001b[1;33m.\u001b[0m\u001b[0mabs\u001b[0m\u001b[1;33m(\u001b[0m\u001b[1;33m)\u001b[0m\u001b[1;33m)\u001b[0m\u001b[1;33m\u001b[0m\u001b[1;33m\u001b[0m\u001b[0m\n\u001b[0;32m      4\u001b[0m     \u001b[0mplt\u001b[0m\u001b[1;33m.\u001b[0m\u001b[0mylabel\u001b[0m\u001b[1;33m(\u001b[0m\u001b[1;34m'Erro'\u001b[0m\u001b[1;33m)\u001b[0m\u001b[1;33m\u001b[0m\u001b[1;33m\u001b[0m\u001b[0m\n\u001b[0;32m      5\u001b[0m     \u001b[0mplt\u001b[0m\u001b[1;33m.\u001b[0m\u001b[0mxlabel\u001b[0m\u001b[1;33m(\u001b[0m\u001b[0mtarget\u001b[0m\u001b[1;33m)\u001b[0m\u001b[1;33m\u001b[0m\u001b[1;33m\u001b[0m\u001b[0m\n",
      "\u001b[1;32mC:\\ProgramData\\Anaconda3\\lib\\site-packages\\pandas\\core\\ops.py\u001b[0m in \u001b[0;36mwrapper\u001b[1;34m(left, right)\u001b[0m\n\u001b[0;32m   1583\u001b[0m         \u001b[0mresult\u001b[0m \u001b[1;33m=\u001b[0m \u001b[0msafe_na_op\u001b[0m\u001b[1;33m(\u001b[0m\u001b[0mlvalues\u001b[0m\u001b[1;33m,\u001b[0m \u001b[0mrvalues\u001b[0m\u001b[1;33m)\u001b[0m\u001b[1;33m\u001b[0m\u001b[1;33m\u001b[0m\u001b[0m\n\u001b[0;32m   1584\u001b[0m         return construct_result(left, result,\n\u001b[1;32m-> 1585\u001b[1;33m                                 index=left.index, name=res_name, dtype=None)\n\u001b[0m\u001b[0;32m   1586\u001b[0m \u001b[1;33m\u001b[0m\u001b[0m\n\u001b[0;32m   1587\u001b[0m     \u001b[0mwrapper\u001b[0m\u001b[1;33m.\u001b[0m\u001b[0m__name__\u001b[0m \u001b[1;33m=\u001b[0m \u001b[0mop_name\u001b[0m\u001b[1;33m\u001b[0m\u001b[1;33m\u001b[0m\u001b[0m\n",
      "\u001b[1;32mC:\\ProgramData\\Anaconda3\\lib\\site-packages\\pandas\\core\\ops.py\u001b[0m in \u001b[0;36m_construct_result\u001b[1;34m(left, result, index, name, dtype)\u001b[0m\n\u001b[0;32m   1472\u001b[0m     \u001b[1;32mnot\u001b[0m \u001b[0mbe\u001b[0m \u001b[0menough\u001b[0m\u001b[1;33m;\u001b[0m \u001b[0mwe\u001b[0m \u001b[0mstill\u001b[0m \u001b[0mneed\u001b[0m \u001b[0mto\u001b[0m \u001b[0moverride\u001b[0m \u001b[0mthe\u001b[0m \u001b[0mname\u001b[0m \u001b[0mattribute\u001b[0m\u001b[1;33m.\u001b[0m\u001b[1;33m\u001b[0m\u001b[1;33m\u001b[0m\u001b[0m\n\u001b[0;32m   1473\u001b[0m     \"\"\"\n\u001b[1;32m-> 1474\u001b[1;33m     \u001b[0mout\u001b[0m \u001b[1;33m=\u001b[0m \u001b[0mleft\u001b[0m\u001b[1;33m.\u001b[0m\u001b[0m_constructor\u001b[0m\u001b[1;33m(\u001b[0m\u001b[0mresult\u001b[0m\u001b[1;33m,\u001b[0m \u001b[0mindex\u001b[0m\u001b[1;33m=\u001b[0m\u001b[0mindex\u001b[0m\u001b[1;33m,\u001b[0m \u001b[0mdtype\u001b[0m\u001b[1;33m=\u001b[0m\u001b[0mdtype\u001b[0m\u001b[1;33m)\u001b[0m\u001b[1;33m\u001b[0m\u001b[1;33m\u001b[0m\u001b[0m\n\u001b[0m\u001b[0;32m   1475\u001b[0m \u001b[1;33m\u001b[0m\u001b[0m\n\u001b[0;32m   1476\u001b[0m     \u001b[0mout\u001b[0m\u001b[1;33m.\u001b[0m\u001b[0mname\u001b[0m \u001b[1;33m=\u001b[0m \u001b[0mname\u001b[0m\u001b[1;33m\u001b[0m\u001b[1;33m\u001b[0m\u001b[0m\n",
      "\u001b[1;32mC:\\ProgramData\\Anaconda3\\lib\\site-packages\\pandas\\core\\series.py\u001b[0m in \u001b[0;36m__init__\u001b[1;34m(self, data, index, dtype, name, copy, fastpath)\u001b[0m\n\u001b[0;32m    260\u001b[0m             \u001b[1;32melse\u001b[0m\u001b[1;33m:\u001b[0m\u001b[1;33m\u001b[0m\u001b[1;33m\u001b[0m\u001b[0m\n\u001b[0;32m    261\u001b[0m                 data = sanitize_array(data, index, dtype, copy,\n\u001b[1;32m--> 262\u001b[1;33m                                       raise_cast_failure=True)\n\u001b[0m\u001b[0;32m    263\u001b[0m \u001b[1;33m\u001b[0m\u001b[0m\n\u001b[0;32m    264\u001b[0m                 \u001b[0mdata\u001b[0m \u001b[1;33m=\u001b[0m \u001b[0mSingleBlockManager\u001b[0m\u001b[1;33m(\u001b[0m\u001b[0mdata\u001b[0m\u001b[1;33m,\u001b[0m \u001b[0mindex\u001b[0m\u001b[1;33m,\u001b[0m \u001b[0mfastpath\u001b[0m\u001b[1;33m=\u001b[0m\u001b[1;32mTrue\u001b[0m\u001b[1;33m)\u001b[0m\u001b[1;33m\u001b[0m\u001b[1;33m\u001b[0m\u001b[0m\n",
      "\u001b[1;32mC:\\ProgramData\\Anaconda3\\lib\\site-packages\\pandas\\core\\internals\\construction.py\u001b[0m in \u001b[0;36msanitize_array\u001b[1;34m(data, index, dtype, copy, raise_cast_failure)\u001b[0m\n\u001b[0;32m    656\u001b[0m     \u001b[1;32melif\u001b[0m \u001b[0msubarr\u001b[0m\u001b[1;33m.\u001b[0m\u001b[0mndim\u001b[0m \u001b[1;33m>\u001b[0m \u001b[1;36m1\u001b[0m\u001b[1;33m:\u001b[0m\u001b[1;33m\u001b[0m\u001b[1;33m\u001b[0m\u001b[0m\n\u001b[0;32m    657\u001b[0m         \u001b[1;32mif\u001b[0m \u001b[0misinstance\u001b[0m\u001b[1;33m(\u001b[0m\u001b[0mdata\u001b[0m\u001b[1;33m,\u001b[0m \u001b[0mnp\u001b[0m\u001b[1;33m.\u001b[0m\u001b[0mndarray\u001b[0m\u001b[1;33m)\u001b[0m\u001b[1;33m:\u001b[0m\u001b[1;33m\u001b[0m\u001b[1;33m\u001b[0m\u001b[0m\n\u001b[1;32m--> 658\u001b[1;33m             \u001b[1;32mraise\u001b[0m \u001b[0mException\u001b[0m\u001b[1;33m(\u001b[0m\u001b[1;34m'Data must be 1-dimensional'\u001b[0m\u001b[1;33m)\u001b[0m\u001b[1;33m\u001b[0m\u001b[1;33m\u001b[0m\u001b[0m\n\u001b[0m\u001b[0;32m    659\u001b[0m         \u001b[1;32melse\u001b[0m\u001b[1;33m:\u001b[0m\u001b[1;33m\u001b[0m\u001b[1;33m\u001b[0m\u001b[0m\n\u001b[0;32m    660\u001b[0m             \u001b[0msubarr\u001b[0m \u001b[1;33m=\u001b[0m \u001b[0mcom\u001b[0m\u001b[1;33m.\u001b[0m\u001b[0masarray_tuplesafe\u001b[0m\u001b[1;33m(\u001b[0m\u001b[0mdata\u001b[0m\u001b[1;33m,\u001b[0m \u001b[0mdtype\u001b[0m\u001b[1;33m=\u001b[0m\u001b[0mdtype\u001b[0m\u001b[1;33m)\u001b[0m\u001b[1;33m\u001b[0m\u001b[1;33m\u001b[0m\u001b[0m\n",
      "\u001b[1;31mException\u001b[0m: Data must be 1-dimensional"
     ]
    }
   ],
   "source": [
    "errorvsreal ( X = X_test, y = y_test, model = final_model, target = 'RDI Pilha', save_name = 'Test')"
   ]
  },
  {
   "cell_type": "code",
   "execution_count": 70,
   "metadata": {
    "ExecuteTime": {
     "end_time": "2020-05-20T12:27:05.044018Z",
     "start_time": "2020-05-20T12:27:05.040028Z"
    }
   },
   "outputs": [],
   "source": [
    "pickle.dump(final_model, open('model1.sav', 'wb'))"
   ]
  },
  {
   "cell_type": "code",
   "execution_count": 72,
   "metadata": {
    "ExecuteTime": {
     "end_time": "2020-05-20T12:27:36.480103Z",
     "start_time": "2020-05-20T12:27:36.475085Z"
    }
   },
   "outputs": [
    {
     "data": {
      "text/plain": [
       "array([[ -1.14541221,  -5.2764898 , -52.07462826,  -2.00720587,\n",
       "          0.54660347,  -0.17158157,   0.26180216,  -2.07552714,\n",
       "         -6.06201602]])"
      ]
     },
     "execution_count": 72,
     "metadata": {},
     "output_type": "execute_result"
    }
   ],
   "source": [
    "final_model.coef_"
   ]
  },
  {
   "cell_type": "code",
   "execution_count": 75,
   "metadata": {
    "ExecuteTime": {
     "end_time": "2020-05-20T12:30:42.716766Z",
     "start_time": "2020-05-20T12:30:42.710786Z"
    }
   },
   "outputs": [
    {
     "data": {
      "text/plain": [
       "Index(['FeT', 'SiO2', 'Na2O', 'PPC', 'm635', 'm283', 'en05e283', 'me0.50',\n",
       "       'T.M.'],\n",
       "      dtype='object')"
      ]
     },
     "execution_count": 75,
     "metadata": {},
     "output_type": "execute_result"
    }
   ],
   "source": [
    "X_train3.columns"
   ]
  },
  {
   "cell_type": "code",
   "execution_count": 76,
   "metadata": {
    "ExecuteTime": {
     "end_time": "2020-05-20T12:31:34.055657Z",
     "start_time": "2020-05-20T12:31:34.050704Z"
    }
   },
   "outputs": [
    {
     "data": {
      "text/plain": [
       "array([129.99385808])"
      ]
     },
     "execution_count": 76,
     "metadata": {},
     "output_type": "execute_result"
    }
   ],
   "source": [
    "final_model.intercept_"
   ]
  },
  {
   "cell_type": "code",
   "execution_count": 1,
   "metadata": {
    "ExecuteTime": {
     "end_time": "2020-05-27T14:09:56.935596Z",
     "start_time": "2020-05-27T14:09:56.929614Z"
    }
   },
   "outputs": [],
   "source": [
    "def scater(df):\n",
    "    for i in range(df.shape[1]-1):\n",
    "        ax=[]\n",
    "        if type(df.iloc[0,i]) == type(df.iloc[0,-1]):\n",
    "            plt.figure()\n",
    "            ax = sns.regplot(df.iloc[:,i], df.iloc[:,-1])"
   ]
  },
  {
   "cell_type": "code",
   "execution_count": 26,
   "metadata": {
    "ExecuteTime": {
     "end_time": "2020-05-27T14:14:15.768633Z",
     "start_time": "2020-05-27T14:14:13.521615Z"
    }
   },
   "outputs": [
    {
     "data": {
      "image/png": "[encoded data removed]",
      "text/plain": [
       "<Figure size 432x288 with 1 Axes>"
      ]
     },
     "metadata": {
      "needs_background": "light"
     },
     "output_type": "display_data"
    },
    {
     "data": {
      "image/png": "[encoded data removed]",
      "text/plain": [
       "<Figure size 432x288 with 1 Axes>"
      ]
     },
     "metadata": {
      "needs_background": "light"
     },
     "output_type": "display_data"
    },
    {
     "data": {
      "image/png": "[encoded data removed]",
      "text/plain": [
       "<Figure size 432x288 with 1 Axes>"
      ]
     },
     "metadata": {
      "needs_background": "light"
     },
     "output_type": "display_data"
    },
    {
     "data": {
      "image/png": "[encoded data removed]",
      "text/plain": [
       "<Figure size 432x288 with 1 Axes>"
      ]
     },
     "metadata": {
      "needs_background": "light"
     },
     "output_type": "display_data"
    },
    {
     "data": {
      "image/png": "[encoded data removed]",
      "text/plain": [
       "<Figure size 432x288 with 1 Axes>"
      ]
     },
     "metadata": {
      "needs_background": "light"
     },
     "output_type": "display_data"
    },
    {
     "data": {
      "image/png": "[encoded data removed]",
      "text/plain": [
       "<Figure size 432x288 with 1 Axes>"
      ]
     },
     "metadata": {
      "needs_background": "light"
     },
     "output_type": "display_data"
    },
    {
     "data": {
      "image/png": "[encoded data removed]",
      "text/plain": [
       "<Figure size 432x288 with 1 Axes>"
      ]
     },
     "metadata": {
      "needs_background": "light"
     },
     "output_type": "display_data"
    },
    {
     "data": {
      "image/png": "[encoded data removed]",
      "text/plain": [
       "<Figure size 432x288 with 1 Axes>"
      ]
     },
     "metadata": {
      "needs_background": "light"
     },
     "output_type": "display_data"
    },
    {
     "data": {
      "image/png": "[encoded data removed]",
      "text/plain": [
       "<Figure size 432x288 with 1 Axes>"
      ]
     },
     "metadata": {
      "needs_background": "light"
     },
     "output_type": "display_data"
    }
   ],
   "source": [
    "for i in range(X_train3.shape[1]):\n",
    "    plt.figure()\n",
    "    ax = sns.regplot(X_train3.iloc[:,i], (df_train['RDI Previsto'] - df_train['RDI Pilha']))"
   ]
  },
  {
   "cell_type": "code",
   "execution_count": null,
   "metadata": {},
   "outputs": [],
   "source": []
  }
 ],
 "metadata": {
  "kernelspec": {
   "display_name": "Python 3",
   "language": "python",
   "name": "python3"
  },
  "language_info": {
   "codemirror_mode": {
    "name": "ipython",
    "version": 3
   },
   "file_extension": ".py",
   "mimetype": "text/x-python",
   "name": "python",
   "nbconvert_exporter": "python",
   "pygments_lexer": "ipython3",
   "version": "3.7.3"
  },
  "toc": {
   "base_numbering": 1,
   "nav_menu": {},
   "number_sections": true,
   "sideBar": true,
   "skip_h1_title": false,
   "title_cell": "Table of Contents",
   "title_sidebar": "Contents",
   "toc_cell": false,
   "toc_position": {
    "height": "574.4px",
    "left": "50px",
    "top": "52px",
    "width": "307.2px"
   },
   "toc_section_display": true,
   "toc_window_display": true
  },
  "varInspector": {
   "cols": {
    "lenName": 16,
    "lenType": 16,
    "lenVar": 40
   },
   "kernels_config": {
    "python": {
     "delete_cmd_postfix": "",
     "delete_cmd_prefix": "del ",
     "library": "var_list.py",
     "varRefreshCmd": "print(var_dic_list())"
    },
    "r": {
     "delete_cmd_postfix": ") ",
     "delete_cmd_prefix": "rm(",
     "library": "var_list.r",
     "varRefreshCmd": "cat(var_dic_list()) "
    }
   },
   "types_to_exclude": [
    "module",
    "function",
    "builtin_function_or_method",
    "instance",
    "_Feature"
   ],
   "window_display": false
  }
 },
 "nbformat": 4,
 "nbformat_minor": 2
}
